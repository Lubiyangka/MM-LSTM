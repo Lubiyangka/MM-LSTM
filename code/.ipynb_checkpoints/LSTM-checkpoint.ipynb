{
 "cells": [
  {
   "cell_type": "code",
   "execution_count": 124,
   "id": "5fb2305b-7efa-40d7-af7d-89ca38ca6f8d",
   "metadata": {},
   "outputs": [],
   "source": [
    "import pandas as pd\n",
    "import torch\n",
    "from torch import nn\n",
    "import matplotlib.pyplot as plt\n",
    "from torch.utils.data import TensorDataset, DataLoader\n",
    "import numpy as np\n",
    "from tqdm import tqdm\n",
    "import time"
   ]
  },
  {
   "cell_type": "markdown",
   "id": "966e3c63-e193-4aca-b5e5-5e45e5d436b5",
   "metadata": {},
   "source": [
    "# Datasets"
   ]
  },
  {
   "cell_type": "code",
   "execution_count": 125,
   "id": "63b2c2b5-4650-4f93-8fc5-af9651947030",
   "metadata": {
    "scrolled": true
   },
   "outputs": [],
   "source": [
    "# 指定CSV文件的路径\n",
    "csv_file_path = './data/Wimbledon_featured_matches.csv'\n",
    "\n",
    "# 使用pandas的read_csv函数读取CSV文件\n",
    "df = pd.read_csv(csv_file_path)\n",
    "\n",
    "matches = df[\"match_id\"].unique()"
   ]
  },
  {
   "cell_type": "code",
   "execution_count": 167,
   "id": "74b32ae2-d17d-4f45-b937-1b9dbfa349c1",
   "metadata": {},
   "outputs": [],
   "source": [
    "interested_columns = ['set_no', 'game_no', 'point_no', 'p1_sets', 'p2_sets', 'p1_games', 'p2_games', \n",
    "                      'p1_score', 'p2_score', 'server', 'serve_no', 'point_victor', 'p1_points_won', \n",
    "                      'p2_points_won', 'game_victor', 'set_victor', 'p1_ace', 'p2_ace', 'p1_winner', \n",
    "                      'p2_winner', 'winner_shot_type', 'p1_double_fault', 'p2_double_fault', 'p1_unf_err', \n",
    "                      'p2_unf_err', 'p1_net_pt', 'p2_net_pt', 'p1_net_pt_won', 'p2_net_pt_won', 'p1_break_pt', \n",
    "                      'p2_break_pt', 'p1_break_pt_won', 'p2_break_pt_won', 'p1_break_pt_missed', \n",
    "                      'p2_break_pt_missed', 'p1_distance_run', 'p2_distance_run', 'rally_count', 'speed_mph', \n",
    "                      'serve_width', 'serve_depth', 'return_depth']\n",
    "\n",
    "# method 1\n",
    "# train_columns = ['set_no', 'game_no', 'point_no', 'p1_sets', 'p2_sets', 'p1_games', 'p2_games', \n",
    "#                       'server', 'serve_no', 'p1_points_won', \n",
    "#                       'p2_points_won', 'game_victor', 'set_victor', 'p1_ace', 'p2_ace', 'p1_winner', \n",
    "#                       'p2_winner', 'p1_double_fault', 'p2_double_fault', 'p1_unf_err', \n",
    "#                       'p2_unf_err', 'p1_net_pt', 'p2_net_pt', 'p1_net_pt_won', 'p2_net_pt_won', \n",
    "#                       'p1_distance_run', 'p2_distance_run', 'rally_count']\n",
    "\n",
    "# method 2\n",
    "# train_columns = ['match_id', 'point_no', 'p1_sets', 'p2_sets', 'p1_games', 'p2_games', \n",
    "#                       'server', 'serve_no', 'p1_points_won', \n",
    "#                       'p2_points_won', 'game_victor', 'set_victor', 'p1_ace', 'p2_ace', 'p1_winner', \n",
    "#                       'p2_winner', 'p1_double_fault', 'p2_double_fault', 'p1_unf_err', \n",
    "#                       'p2_unf_err', 'p1_net_pt', 'p2_net_pt', \n",
    "#                       'p1_distance_run', 'p2_distance_run', 'rally_count','speed_mph', 'serve_width', 'serve_depth', 'return_depth']\n",
    "\n",
    "# method 3\n",
    "# train_columns = ['match_id', 'point_no',  \n",
    "#                       'server', 'serve_no', 'p1_points_won', \n",
    "#                       'p2_points_won', 'p1_ace', 'p2_ace', 'p1_winner', \n",
    "#                       'p2_winner', 'p1_double_fault', 'p2_double_fault', 'p1_unf_err', \n",
    "#                       'p2_unf_err', 'p1_net_pt', 'p2_net_pt', \n",
    "#                       'p1_distance_run', 'p2_distance_run', 'rally_count','speed_mph', 'serve_width', 'serve_depth', 'return_depth']\n",
    "\n",
    "# cut 1\n",
    "# train_columns = ['match_id', 'point_no',  \n",
    "#                       'server', 'serve_no', 'p1_points_won', \n",
    "#                       'p2_points_won', 'p1_ace', 'p2_ace', 'p1_winner', \n",
    "#                       'p2_winner', 'p1_double_fault', 'p2_double_fault', 'p1_unf_err', \n",
    "#                       'p1_net_pt', 'p2_net_pt', \n",
    "#                       'p1_distance_run', 'p2_distance_run', 'rally_count','speed_mph', 'serve_width', 'serve_depth', 'return_depth']\n",
    "# cut 2\n",
    "# train_columns = ['match_id', 'point_no',  \n",
    "#                       'server', 'serve_no', 'p1_points_won', \n",
    "#                       'p2_points_won', 'p1_ace', 'p2_ace', 'p1_winner', \n",
    "#                       'p2_winner', 'p1_double_fault', 'p2_double_fault', \n",
    "#                       'p1_net_pt', 'p2_net_pt', \n",
    "#                       'p1_distance_run', 'p2_distance_run', 'rally_count','speed_mph', 'serve_width', 'serve_depth', 'return_depth']\n",
    "# cut 3\n",
    "# train_columns = ['match_id', 'point_no',  \n",
    "#                       'server', 'serve_no', 'p1_points_won', \n",
    "#                       'p2_points_won', 'p1_ace', 'p2_ace',  \n",
    "#                       'p2_winner', 'p1_double_fault', 'p2_double_fault', \n",
    "#                       'p1_net_pt', 'p2_net_pt', \n",
    "#                       'p1_distance_run', 'p2_distance_run', 'rally_count','speed_mph', 'serve_width', 'serve_depth', 'return_depth']\n",
    "# cut 4\n",
    "train_columns = ['match_id', 'point_no',  \n",
    "                      'server', 'serve_no', 'p1_points_won', \n",
    "                      'p2_points_won', 'p1_ace', 'p2_ace',  \n",
    "                      'p1_double_fault', 'p2_double_fault', \n",
    "                      'p1_net_pt', 'p2_net_pt', \n",
    "                      'p1_distance_run', 'p2_distance_run', 'rally_count','speed_mph', 'serve_width', 'serve_depth', 'return_depth']\n",
    "\n",
    "# cut 5\n",
    "# train_columns = ['match_id', 'point_no',  \n",
    "#                       'server', 'serve_no', 'p1_points_won', \n",
    "#                       'p2_points_won', 'p1_ace', 'p2_ace',  \n",
    "#                       'p1_double_fault', 'p2_double_fault', \n",
    "#                       'p1_net_pt',\n",
    "#                       'p1_distance_run', 'p2_distance_run', 'rally_count','speed_mph', 'serve_width', 'serve_depth', 'return_depth']\n",
    "\n",
    "# cut 1\n",
    "# train_columns = ['match_id', 'point_no',  \n",
    "#                       'server', 'serve_no', \n",
    "#                       'p2_points_won', 'p1_ace', 'p2_ace', 'p1_winner', \n",
    "#                       'p2_winner', 'p1_double_fault', 'p2_double_fault', 'p1_unf_err', \n",
    "#                       'p2_unf_err', 'p1_net_pt', 'p2_net_pt', \n",
    "#                       'p1_distance_run', 'p2_distance_run', 'rally_count','speed_mph', 'serve_width', 'serve_depth', 'return_depth']\n",
    "\n",
    "# train_columns = ['server', 'speed_mph', 'rally_count', 'p1_distance_run', 'serve_width', 'serve_depth', 'p2_distance_run', 'return_depth']\n",
    "test_columns = ['match_id', 'point_victor']"
   ]
  },
  {
   "cell_type": "code",
   "execution_count": 168,
   "id": "ead5b2bf-652e-44b8-8e14-e685f6f6bf7a",
   "metadata": {},
   "outputs": [
    {
     "data": {
      "text/plain": [
       "19"
      ]
     },
     "execution_count": 168,
     "metadata": {},
     "output_type": "execute_result"
    }
   ],
   "source": [
    "len(train_columns)"
   ]
  },
  {
   "cell_type": "code",
   "execution_count": 169,
   "id": "5dd818eb-f9f7-423c-83a5-e8e78d8a2e01",
   "metadata": {
    "scrolled": true
   },
   "outputs": [],
   "source": [
    "wim_df = pd.read_csv(\"./data/Wimbledon_featured_matches.csv\")\n",
    "\n",
    "\n",
    "shot_type_dic = {\"F\": 1, \"B\": 2}\n",
    "serve_w_dic = {\"B\": 1, \"BC\": 2, \"BW\": 3, \"C\": 4, \"W\": 5}\n",
    "serve_d_dic = {\"CTL\": 1, \"NCTL\": 2}\n",
    "return_d_dic = {\"D\": 1, \"NA\": 2, \"ND\": 3}\n",
    "wim_df.loc[:, \"winner_shot_type\"] = wim_df[\"winner_shot_type\"].replace(shot_type_dic)\n",
    "wim_df.loc[:, \"serve_width\"] = wim_df[\"serve_width\"].replace(serve_w_dic)\n",
    "wim_df.loc[:, \"serve_depth\"] = wim_df[\"serve_depth\"].replace(serve_d_dic)\n",
    "wim_df.loc[:, \"return_depth\"] = wim_df[\"return_depth\"].replace(return_d_dic)\n",
    "\n",
    "for i in range(wim_df.shape[0]):\n",
    "    if pd.isna(wim_df.loc[i, \"return_depth\"]):\n",
    "        wim_df.loc[i, \"return_depth\"] = 3.0\n",
    "\n",
    "# 对选择的列进行线性插值\n",
    "for column in train_columns:\n",
    "    if column == 'match_id':\n",
    "        continue\n",
    "    # 将列转换为数值型，同时将任何非数值数据转换为NaN\n",
    "    wim_df[column] = pd.to_numeric(wim_df[column], errors='coerce')\n",
    "    # 现在，对列进行插值\n",
    "    wim_df[column] = wim_df[column].interpolate()\n",
    "\n",
    "# wim_df[train_columns].to_csv('processed_file.csv', index=False)  # index=False 可以避免保存索引列"
   ]
  },
  {
   "cell_type": "code",
   "execution_count": 170,
   "id": "c4eebc9c-8298-4bbd-aad6-45c51d202ef4",
   "metadata": {},
   "outputs": [],
   "source": [
    "# # 提取感兴趣的列\n",
    "# x_df = wim_df[train_columns]\n",
    "# print(x_df.shape)\n",
    "# y_df = wim_df[test_columuns] - 1\n",
    "# print(y_df.shape)"
   ]
  },
  {
   "cell_type": "code",
   "execution_count": 171,
   "id": "2e5238d8-09bf-451a-9ffb-eab8467090e7",
   "metadata": {},
   "outputs": [],
   "source": [
    "# # 划分特征和目标值\n",
    "# x_array = x_df.values\n",
    "# y_array = y_df.values\n",
    "\n",
    "# x = torch.tensor(x_array, dtype=torch.float32)\n",
    "# y = torch.tensor(y_array, dtype=torch.float32)\n",
    "\n",
    "# print(x.shape)\n",
    "# print(y.shape)\n"
   ]
  },
  {
   "cell_type": "code",
   "execution_count": 172,
   "id": "34ecd0d3-9199-4129-ad4a-59062f950cf5",
   "metadata": {},
   "outputs": [
    {
     "name": "stdout",
     "output_type": "stream",
     "text": [
      "24\n"
     ]
    }
   ],
   "source": [
    "\"\"\"\n",
    "划分测试集和验证集\n",
    "\"\"\"\n",
    "\n",
    "# 传统的方法\n",
    "# from sklearn.model_selection import train_test_split\n",
    "# x_train, x_test, y_train, y_test = train_test_split(x, y, test_size=0.3, random_state=21, shuffle=False)\n",
    "\n",
    "# 基于 match 的方法\n",
    "# train_match = matches[:-2]\n",
    "# train_match = [match for match in matches if match != \"2023-wimbledon-1701\"]\n",
    "# train_match = matches\n",
    "# train_match = matches[:len(matches) // 2]\n",
    "# train_match = matches[:int(len(matches) / 3 * 2)]\n",
    "# train_match = matches[:int(len(matches) * 0.5)]\n",
    "# train_match = matches[:int(len(matches) * 0.6)]\n",
    "# train_match = matches[:int(len(matches) * 0.7)]\n",
    "# train_match = matches[:int(len(matches) * 0.8)]\n",
    "train_match = matches[:int(len(matches) * 0.8)]\n",
    "data_train = wim_df[wim_df[\"match_id\"].isin(train_match)]  # 使用 isin() 方法筛选符合条件的行\n",
    "# print(data_train)\n",
    "x_train = data_train[train_columns]\n",
    "y_train = data_train[test_columns]\n",
    "y_train.loc[:, 'point_victor'] = y_train['point_victor'] - 1\n",
    "\n",
    "# test_match = matches[-2:]\n",
    "# test_match = [\"2023-wimbledon-1701\"]\n",
    "test_match = matches\n",
    "# test_match = matches[int(len(matches) / 3 * 2):]\n",
    "# test_match = matches[int(len(matches) * 0.5):]\n",
    "# test_match = matches[int(len(matches) * 0.6):]\n",
    "# test_match = matches[int(len(matches) * 0.7):]\n",
    "# test_match = matches[int(len(matches) * 0.8):]\n",
    "test_match = matches[int(len(matches) * 0.8):]\n",
    "data_test = wim_df[wim_df[\"match_id\"].isin(test_match)]\n",
    "x_test = data_test[train_columns]\n",
    "y_test = data_test[test_columns]\n",
    "y_test.loc[:, 'point_victor'] = y_test['point_victor'] - 1\n",
    "\n",
    "visual_match = [\"2023-wimbledon-1701\"]\n",
    "data_visual = wim_df[wim_df[\"match_id\"].isin(visual_match)]\n",
    "x_visual = data_visual[train_columns]\n",
    "y_visual = data_visual[test_columns]\n",
    "y_visual.loc[:, 'point_victor'] = y_visual['point_victor'] - 1\n",
    "\n",
    "print(len(train_match))\n",
    "# print(len(test_match))"
   ]
  },
  {
   "cell_type": "code",
   "execution_count": 173,
   "id": "05b22d48-bd40-4729-9ebb-a14740ad476b",
   "metadata": {},
   "outputs": [
    {
     "name": "stdout",
     "output_type": "stream",
     "text": [
      "['2023-wimbledon-1301' '2023-wimbledon-1302' '2023-wimbledon-1303'\n",
      " '2023-wimbledon-1304' '2023-wimbledon-1305' '2023-wimbledon-1306'\n",
      " '2023-wimbledon-1307' '2023-wimbledon-1308' '2023-wimbledon-1309'\n",
      " '2023-wimbledon-1310' '2023-wimbledon-1311' '2023-wimbledon-1312'\n",
      " '2023-wimbledon-1313' '2023-wimbledon-1314' '2023-wimbledon-1315'\n",
      " '2023-wimbledon-1316' '2023-wimbledon-1401' '2023-wimbledon-1402'\n",
      " '2023-wimbledon-1403' '2023-wimbledon-1404' '2023-wimbledon-1405'\n",
      " '2023-wimbledon-1406' '2023-wimbledon-1407' '2023-wimbledon-1408'\n",
      " '2023-wimbledon-1501' '2023-wimbledon-1502' '2023-wimbledon-1503'\n",
      " '2023-wimbledon-1504' '2023-wimbledon-1601' '2023-wimbledon-1602'\n",
      " '2023-wimbledon-1701']\n",
      "(31,)\n",
      "['2023-wimbledon-1301' '2023-wimbledon-1302' '2023-wimbledon-1303'\n",
      " '2023-wimbledon-1304' '2023-wimbledon-1305' '2023-wimbledon-1306'\n",
      " '2023-wimbledon-1307' '2023-wimbledon-1308' '2023-wimbledon-1309'\n",
      " '2023-wimbledon-1310' '2023-wimbledon-1311' '2023-wimbledon-1312'\n",
      " '2023-wimbledon-1313' '2023-wimbledon-1314' '2023-wimbledon-1315'\n",
      " '2023-wimbledon-1316' '2023-wimbledon-1401' '2023-wimbledon-1402'\n",
      " '2023-wimbledon-1403' '2023-wimbledon-1404' '2023-wimbledon-1405'\n",
      " '2023-wimbledon-1406' '2023-wimbledon-1407' '2023-wimbledon-1408']\n",
      "(24,)\n",
      "['2023-wimbledon-1501' '2023-wimbledon-1502' '2023-wimbledon-1503'\n",
      " '2023-wimbledon-1504' '2023-wimbledon-1601' '2023-wimbledon-1602'\n",
      " '2023-wimbledon-1701']\n",
      "(7,)\n",
      "['2023-wimbledon-1701']\n"
     ]
    }
   ],
   "source": [
    "print(matches)\n",
    "print(matches.shape)\n",
    "print(train_match)\n",
    "print(train_match.shape)\n",
    "print(test_match)\n",
    "print(test_match.shape)\n",
    "print(visual_match)"
   ]
  },
  {
   "cell_type": "code",
   "execution_count": 174,
   "id": "2cec368e-44a1-4114-9f4b-db16faf54dc9",
   "metadata": {},
   "outputs": [
    {
     "data": {
      "text/plain": [
       "\"['1406', '1407', '1408', '1501', '1502', '1503', '1504', '1601', '1602', '1701']\""
      ]
     },
     "execution_count": 174,
     "metadata": {},
     "output_type": "execute_result"
    }
   ],
   "source": [
    "match_str = \"\"\"['2023-wimbledon-1406' '2023-wimbledon-1407' '2023-wimbledon-1408' '2023-wimbledon-1501' '2023-wimbledon-1502' '2023-wimbledon-1503' '2023-wimbledon-1504' '2023-wimbledon-1601' '2023-wimbledon-1602' '2023-wimbledon-1701']\"\"\"\n",
    "match_str = match_str.replace(' ', \", \")\n",
    "match_str.replace('2023-wimbledon-', \"\")"
   ]
  },
  {
   "cell_type": "code",
   "execution_count": 175,
   "id": "3cf0a408-d7b2-496b-bb7c-eab0ad1265af",
   "metadata": {},
   "outputs": [],
   "source": [
    "# 创建一个 TensorDataset 来组合输入和目标\n",
    "# train_dataset = TensorDataset(x_train, y_train)\n",
    "# test_dataset = TensorDataset(x_test, y_test)"
   ]
  },
  {
   "cell_type": "markdown",
   "id": "c66b69e3-8194-446f-80ef-6f5c0d95e4be",
   "metadata": {},
   "source": [
    "# model"
   ]
  },
  {
   "cell_type": "code",
   "execution_count": 176,
   "id": "1fcf3351-4ed4-4d3f-8690-e3ff0ac3cd7b",
   "metadata": {},
   "outputs": [],
   "source": [
    "class LSTMModel(nn.Module):\n",
    "    def __init__(self, input_size, hidden_size, num_layers, output_size):\n",
    "        super(LSTMModel, self).__init__()\n",
    "        self.hidden_size = hidden_size\n",
    "        self.num_layers = num_layers\n",
    "\n",
    "        # 定义LSTM层\n",
    "        self.lstm = nn.LSTM(input_size, hidden_size, num_layers, batch_first=True)\n",
    "\n",
    "        # 定义全连接层\n",
    "        self.fc = nn.Linear(hidden_size, output_size)\n",
    "\n",
    "    def forward(self, x):\n",
    "        # 初始化隐状态\n",
    "        h0 = torch.zeros(self.num_layers, x.size(0), self.hidden_size).to(x.device)  # layers, batches, hidden_size\n",
    "        c0 = torch.zeros(self.num_layers, x.size(0), self.hidden_size).to(x.device)\n",
    "        \n",
    "        # 使用squeeze移除大小为1的维度\n",
    "        h0 = h0.squeeze(0)\n",
    "        c0 = c0.squeeze(0)\n",
    "        \n",
    "        # 前向传播\n",
    "        out, _ = self.lstm(x, (h0, c0)) # (batch_size, seq_len, hidden_size), (num_layers, batch_size, hidden_size).\n",
    "\n",
    "        # 取LSTM最后一步的输出\n",
    "        out = self.fc(out[:, -1, :])\n",
    "\n",
    "        return out\n"
   ]
  },
  {
   "cell_type": "code",
   "execution_count": null,
   "id": "3e3d3087",
   "metadata": {},
   "outputs": [],
   "source": []
  },
  {
   "cell_type": "code",
   "execution_count": 177,
   "id": "9b0649a8-05e6-4b9c-b439-f1e2ac047111",
   "metadata": {},
   "outputs": [],
   "source": [
    "# 建立模型\n",
    "device = 'cuda'\n",
    "input_size = len(train_columns) - 1\n",
    "hidden_size = 68\n",
    "num_layers = 2\n",
    "output_size = 1\n",
    "model = LSTMModel(input_size, hidden_size, num_layers, output_size)\n",
    "model.to(device)\n",
    "# 损失函数\n",
    "loss_func = nn.MSELoss()  # 使用均方误差\n",
    "loss_func.to(device)\n",
    "# 优化方式\n",
    "# optim = torch.optim.SGD(model.parameters(), lr=0.02)  # 梯度下降，参数就是权重和偏执\n",
    "optim = torch.optim.Adam(model.parameters(), lr=0.001)\n",
    "# 迭代次数\n",
    "epoch = 1000"
   ]
  },
  {
   "cell_type": "code",
   "execution_count": 178,
   "id": "c4a5fc9d-f677-4582-8cd8-e0435836cb92",
   "metadata": {
    "scrolled": true
   },
   "outputs": [
    {
     "name": "stderr",
     "output_type": "stream",
     "text": [
      "100%|███████████████████████████████████████████████████████| 1000/1000 [02:03<00:00,  8.09it/s]"
     ]
    },
    {
     "name": "stdout",
     "output_type": "stream",
     "text": [
      "123.57542181015015\n"
     ]
    },
    {
     "name": "stderr",
     "output_type": "stream",
     "text": [
      "\n"
     ]
    },
    {
     "data": {
      "text/plain": [
       "Text(0, 0.5, 'Loss')"
      ]
     },
     "execution_count": 178,
     "metadata": {},
     "output_type": "execute_result"
    },
    {
     "data": {
      "image/png": "[encoded data removed]",
      "text/plain": [
       "<Figure size 640x480 with 1 Axes>"
      ]
     },
     "metadata": {},
     "output_type": "display_data"
    }
   ],
   "source": [
    "\"\"\"\n",
    "基于 match 的模型训练方法\n",
    "\"\"\"\n",
    "start_time = time.time() \n",
    "train_loss_list = []\n",
    "test_loss_list = []\n",
    "x_column = [column for column in train_columns if column != 'match_id']\n",
    "y_column = [column for column in test_columns if column != 'match_id']\n",
    "for step in tqdm(range(epoch)):\n",
    "# 训练模式\n",
    "    model.train()\n",
    "    train_loss_epoch = 0\n",
    "    for match in train_match:\n",
    "        x_train_match = x_train[x_train['match_id'] == match]\n",
    "        x_train_match = x_train_match[x_column]\n",
    "        x_train_match = torch.tensor(x_train_match.values, dtype=torch.float32)\n",
    "        x_train_match = x_train_match.to(device)\n",
    "        \n",
    "        y_train_match = y_train[x_train['match_id'] == match]\n",
    "        y_train_match = y_train_match[y_column]\n",
    "        y_train_match = torch.tensor(y_train_match.values, dtype=torch.float32)\n",
    "        y_train_match = y_train_match.to(device)\n",
    "        \n",
    "        # 前向传播\n",
    "        x_train_3d = x_train_match.unsqueeze(1)\n",
    "        predict = model.forward(x_train_3d)  # 只有一个 batch\n",
    "        # 计算损失\n",
    "        loss_train = loss_func(predict, y_train_match)\n",
    "        train_loss_epoch += loss_train.detach().cpu().numpy()\n",
    "        # 梯度清零\n",
    "        optim.zero_grad()\n",
    "        # 反向传播\n",
    "        loss_train.backward()\n",
    "        # 更新优化参数\n",
    "        optim.step()\n",
    "    train_loss_list.append(train_loss_epoch)\n",
    "    \n",
    "# 评估模式\n",
    "    model.eval()\n",
    "    x_test_match = x_test[x_test['match_id'].isin(test_match)]\n",
    "    x_test_match = x_test_match[x_column]\n",
    "    x_test_match = torch.tensor(x_test_match.values, dtype=torch.float32)\n",
    "    x_test_match = x_test_match.to(device)\n",
    "    \n",
    "    y_test_match = y_test[x_test['match_id'].isin(test_match)]\n",
    "    y_test_match = y_test_match[y_column]\n",
    "    y_test_match = torch.tensor(y_test_match.values, dtype=torch.float32)\n",
    "    y_test_match = y_test_match.to(device)\n",
    "    \n",
    "    # 前向传播\n",
    "    x_test_3d = x_test_match.unsqueeze(1)\n",
    "    predict_eval = model.forward(x_test_3d)\n",
    "    # 计算损失\n",
    "    loss_eval = loss_func(predict_eval, y_test_match)\n",
    "    if step % 1 == 0:\n",
    "        # plt.scatter(step,loss_eval.detach().numpy())\n",
    "        test_loss_list.append(loss_eval.detach().cpu().numpy())\n",
    "\n",
    "end_time = time.time()\n",
    "print(end_time-start_time)\n",
    "\n",
    "plt.figure()\n",
    "plt.plot(range(len(train_loss_list)), train_loss_list, label='Train Loss')\n",
    "# plt.plot(range(len(test_loss_list)), test_loss_list, label='Test Loss')\n",
    "plt.xlabel('Epoch')\n",
    "plt.ylabel('Loss')"
   ]
  },
  {
   "cell_type": "code",
   "execution_count": null,
   "id": "cbf1fd16-c380-40e1-89ea-4ee6d823d055",
   "metadata": {
    "scrolled": true
   },
   "outputs": [],
   "source": [
    "\"\"\"\n",
    "基于 point 的模型训练方法\n",
    "\"\"\"\n",
    "train_loss_list = []\n",
    "test_loss_list = []\n",
    "x_column = [column for column in train_columns if column != 'match_id']\n",
    "y_column = [column for column in test_columns if column != 'match_id']\n",
    "for step in tqdm(range(epoch)):\n",
    "# 训练模式\n",
    "    model.train()\n",
    "    train_loss_epoch = 0\n",
    "    for i in range(len(x_train)):\n",
    "        x_train_input = x_train.iloc[i].values[1:]  # 提取出一行，去掉最开始的 match_id\n",
    "        # x_train_input = x_train_input.reshape(1, 1, len(x_train_input))\n",
    "        # x_train_input = x_train_input[1:]\n",
    "        x_train_input = x_train_input.astype(np.float32)\n",
    "        x_train_input = torch.tensor(x_train_input)\n",
    "        # x_train_input = torch.tensor(x_train_input, dtype=torch.float32)\n",
    "        x_train_input = x_train_input.to(device)\n",
    "        \n",
    "        y_train_input = y_train.iloc[i].values\n",
    "        y_train_input = y_train_input[1:]\n",
    "        y_train_input = y_train_input.astype(np.float32)\n",
    "        y_train_input = torch.tensor(y_train_input)\n",
    "        # y_train_input = torch.tensor(y_train_input, dtype=torch.float32)\n",
    "        y_train_input = y_train_input.to(device)\n",
    "        \n",
    "        # 前向传播\n",
    "        # x_train_3d = x_train_input.unsqueeze(1)\n",
    "        x_train_3d = x_train_input.reshape(1, 1, len(x_train_input))\n",
    "        predict = model.forward(x_train_3d)  # 只有一个 batch\n",
    "        \n",
    "        # 计算损失\n",
    "        loss_train = loss_func(predict, y_train_input)\n",
    "        train_loss_epoch += loss_train.detach().cpu().numpy()\n",
    "        # 梯度清零\n",
    "        optim.zero_grad()\n",
    "        # 反向传播\n",
    "        loss_train.backward()\n",
    "        # 更新优化参数\n",
    "        optim.step()\n",
    "    train_loss_list.append(train_loss_epoch)\n",
    "    \n",
    "# 评估模式\n",
    "    model.eval()\n",
    "    loss_eval = 0\n",
    "    for i in range(len(x_test)):\n",
    "        x_test_input = x_test.iloc[i].values[1:]  # 提取出一行的，去掉最开始的 match_id\n",
    "        # x_test_input = x_test_input.reshape(1, 1, len(x_test_input))\n",
    "        x_test_input = x_test_input.astype(np.float32)\n",
    "        x_test_input = torch.tensor(x_test_input)\n",
    "        # x_test_input = torch.tensor(x_train_input, dtype=torch.float32)\n",
    "        x_test_input = x_test_input.to(device)\n",
    "        \n",
    "        y_test_input = y_test.iloc[i].values\n",
    "        y_test_input = y_test_input[1:]\n",
    "        y_test_input = y_test_input.astype(np.float32)\n",
    "        y_test_input = torch.tensor(y_test_input)\n",
    "        # y_test_input = torch.tensor(y_test_input, dtype=torch.float32)\n",
    "        y_test_input = y_test_input.to(device)\n",
    "        \n",
    "        # 前向传播\n",
    "        x_test_3d = x_test_input.reshape(1, 1, len(x_train_input))\n",
    "        predict = model.forward(x_test_3d)  # 只有一个 batch\n",
    "        \n",
    "        # 计算损失\n",
    "        loss_eval += loss_func(predict, y_train_input)\n",
    "    test_loss_list.append(loss_eval.detach().cpu().numpy())\n",
    "            \n",
    "    \n",
    "    # 前向传播\n",
    "    # x_test_3d = x_test_match.unsqueeze(1)\n",
    "    # predict_eval = model.forward(x_test_3d)\n",
    "    # # 计算损失\n",
    "    # loss_eval = loss_func(predict_eval, y_test_match)\n",
    "    # if step % 1 == 0:\n",
    "    #     # plt.scatter(step,loss_eval.detach().numpy())\n",
    "    #     test_loss_list.append(loss_eval.detach().cpu().numpy())\n",
    "\n",
    "plt.figure()\n",
    "plt.plot(range(len(train_loss_list)), train_loss_list, label='Train Loss')\n",
    "# plt.plot(range(len(test_loss_list)), test_loss_list, label='Test Loss')\n",
    "plt.xlabel('Epoch')\n",
    "plt.ylabel('Loss')"
   ]
  },
  {
   "cell_type": "code",
   "execution_count": 71,
   "id": "3cc6def8-1b98-4aef-9da1-50228b725cbb",
   "metadata": {},
   "outputs": [],
   "source": [
    "model_path = \"lstm_trained_by_point.pth\"\n",
    "torch.save(model, model_path)"
   ]
  },
  {
   "cell_type": "code",
   "execution_count": 32,
   "id": "ff5c52aa-7ec0-4805-830e-43246f2bc823",
   "metadata": {
    "scrolled": true
   },
   "outputs": [
    {
     "data": {
      "image/png": "[encoded data removed]",
      "text/plain": [
       "<Figure size 640x480 with 1 Axes>"
      ]
     },
     "metadata": {},
     "output_type": "display_data"
    }
   ],
   "source": [
    "\"\"\"\n",
    "color\n",
    "\"\"\"\n",
    "# 蓝：9BD9FF\n",
    "# 绿：9BE9EA\n",
    "# 紫：C79BF1\n",
    "# 黄：FBCAB\n",
    "# 粉：FF9CCD\n",
    "\n",
    "# 红：FF999A\n",
    "# 黄：FFE799\n",
    "# 棕：8F7979\n",
    "\n",
    "\"\"\"\n",
    "loss figure\n",
    "\"\"\"\n",
    "min_train_loss_num = min(train_loss_list)\n",
    "minimum_train_loss = [min_train_loss_num] * 1000\n",
    "min_train_loss_num = min(test_loss_list)\n",
    "minimum_test_loss = [min_train_loss_num] * 1000\n",
    "# plt.plot(range(len(test_loss_list)), train_loss_list, label='train loss', color='#FF999A')\n",
    "# plt.plot(range(len(test_loss_list)), minimum_test_loss, label='minimum train loss', linestyle = '--', color='#8F7979')\n",
    "\n",
    "plt.plot(range(len(test_loss_list)), test_loss_list, label='test loss', color='#9BD9FF')\n",
    "plt.plot(range(len(test_loss_list)), minimum_test_loss, label='minimum test loss', linestyle = '--', color='#8F7979')\n",
    "\n",
    "plt.legend()\n",
    "# plt.title('The loss curve for LSTM')\n",
    "# plt.xlabel('Training Iteration')\n",
    "plt.xlabel('Testing Iteration')\n",
    "plt.ylabel('Loss')\n",
    "# plt.savefig('loss_curve_lstm_train.png', dpi=300)  # dpi设置为300，意味着每英寸300个像素点\n",
    "plt.savefig('loss_curve_lstm_test.png', dpi=300)  # dpi设置为300，意味着每英寸300个像素点\n",
    "plt.show()"
   ]
  },
  {
   "cell_type": "markdown",
   "id": "2b7003e1-b87b-4d22-844f-821454b26674",
   "metadata": {
    "jp-MarkdownHeadingCollapsed": true
   },
   "source": [
    "## 临时不用的代码"
   ]
  },
  {
   "cell_type": "code",
   "execution_count": null,
   "id": "f1e4496b-b709-4e1b-9b82-126f83998dee",
   "metadata": {},
   "outputs": [],
   "source": [
    "\"\"\"\n",
    "传统的模型训练方法\n",
    "\"\"\"\n",
    "# plt.figure()\n",
    "# plt.xlabel('Epoch')\n",
    "# plt.ylabel('Loss')\n",
    "\n",
    "# for step in range(epoch):\n",
    "# # 训练模式\n",
    "#     model.train()\n",
    "#     # 前向传播\n",
    "#     x_train_3d = x_train.unsqueeze(1)\n",
    "#     predict = model.forward(x_train_3d)  # 只有一个 batch\n",
    "#     # 计算损失\n",
    "#     loss_train = loss_func(predict, y_train)\n",
    "#     # 梯度清零\n",
    "#     optim.zero_grad()\n",
    "#     # 反向传播\n",
    "#     loss_train.backward()\n",
    "#     # 更新优化参数\n",
    "#     optim.step()\n",
    "    \n",
    "# # 评估模式\n",
    "#     model.eval()\n",
    "#     # 前向传播\n",
    "#     x_test_3d = x_test.unsqueeze(1)\n",
    "#     predict_eval = model.forward(x_test_3d)\n",
    "#     # 计算损失\n",
    "#     loss_eval = loss_func(predict_eval, y_test)\n",
    "#     if step % 1 == 0:\n",
    "#         plt.scatter(step,loss_eval.detach().numpy())"
   ]
  },
  {
   "cell_type": "code",
   "execution_count": 34,
   "id": "775c3a66-ad53-4437-9d75-1c876397f4ff",
   "metadata": {
    "scrolled": true
   },
   "outputs": [
    {
     "data": {
      "text/plain": [
       "'\\n带 batchsize 的训练\\n'"
      ]
     },
     "execution_count": 34,
     "metadata": {},
     "output_type": "execute_result"
    }
   ],
   "source": [
    "\"\"\"\n",
    "带 batchsize 的训练\n",
    "\"\"\"\n",
    "\n",
    "# # 设置超参数\n",
    "# epoch = 1\n",
    "# batch_size = 256\n",
    "# # 用于存储所有预测值和真实值的列表\n",
    "# all_predictions = []\n",
    "# all_targets = []\n",
    "\n",
    "# for step in range(epoch):\n",
    "#     # 训练模式\n",
    "#     model.train()\n",
    "    \n",
    "#     # 定义总训练损失\n",
    "#     total_train_loss = 0.0\n",
    "    \n",
    "#     # 获取训练数据的 DataLoader\n",
    "#     train_loader = DataLoader(dataset=train_dataset, batch_size=batch_size, shuffle=True)\n",
    "    \n",
    "#     for inputs, targets in train_loader:\n",
    "#         inputs = inputs.unsqueeze(1)\n",
    "#         # print(inputs.shape)\n",
    "#         # 前向传播\n",
    "#         predict = model(inputs)\n",
    "#         # 计算损失\n",
    "#         loss_train = loss_func(predict, targets)\n",
    "#         total_train_loss += loss_train.item() * inputs.size(0)  # 乘以批次大小\n",
    "        \n",
    "#         # 梯度清零\n",
    "#         optim.zero_grad()\n",
    "#         # 反向传播\n",
    "#         loss_train.backward()\n",
    "#         # 更新优化参数\n",
    "#         optim.step()\n",
    "    \n",
    "#     # 计算平均训练损失\n",
    "#     avg_train_loss = total_train_loss / len(train_loader.dataset)\n",
    "    \n",
    "#     # 评估模式\n",
    "#     model.eval()\n",
    "    \n",
    "#     # 定义总评估损失\n",
    "#     total_eval_loss = 0.0\n",
    "    \n",
    "#     # 获取测试数据的 DataLoader\n",
    "#     test_loader = DataLoader(dataset=test_dataset, batch_size=batch_size)\n",
    "    \n",
    "#     with torch.no_grad():  # 在评估模式下不需要计算梯度\n",
    "#         for inputs, targets in test_loader:\n",
    "#             inputs = inputs.unsqueeze(1)\n",
    "#             # 前向传播\n",
    "#             predict_eval = model(inputs)\n",
    "#             # 计算损失\n",
    "#             loss_eval = loss_func(predict_eval, targets)\n",
    "#             total_eval_loss += loss_eval.item() * inputs.size(0)  # 乘以批次大小\n",
    "#             # 将预测值和真实值添加到列表中\n",
    "#             all_predictions.append(predict_eval.numpy())\n",
    "#             all_targets.append(targets.numpy())\n",
    "#     # 计算平均评估损失\n",
    "#     avg_eval_loss = total_eval_loss / len(test_loader.dataset)\n",
    "    \n",
    "#     # 打印每个 epoch 的训练和评估损失\n",
    "#     print(f\"Epoch [{step+1}/{epoch}], Train Loss: {avg_train_loss:.4f}, Eval Loss: {avg_eval_loss:.4f}\")\n",
    "    \n",
    "#     # 每 4 个 epoch 绘制一次评估损失\n",
    "#     if step % 1 == 0:\n",
    "#         plt.scatter(step, avg_eval_loss)\n",
    "\n",
    "# # 将预测值和真实值列表转换为 NumPy 数组\n",
    "# all_predictions = np.concatenate(all_predictions, axis=0)\n",
    "# all_targets = np.concatenate(all_targets, axis=0)\n",
    "\n",
    "# # 绘制预测值和真实值的图像\n",
    "# plt.figure()\n",
    "# plt.plot(all_predictions, label='Predictions')\n",
    "# plt.plot(all_targets, label='Targets')\n",
    "# plt.legend()\n",
    "# plt.show()"
   ]
  },
  {
   "cell_type": "markdown",
   "id": "731c6d23-2aa5-4c15-9326-32fc1249c47f",
   "metadata": {},
   "source": [
    "# Evaluation"
   ]
  },
  {
   "cell_type": "code",
   "execution_count": 166,
   "id": "503bb686-dc14-4fed-b71f-d5209fe1a5fe",
   "metadata": {},
   "outputs": [],
   "source": [
    "\"\"\"\n",
    "基于 point 训练的模型，在测试集上的总正确率\n",
    "\"\"\"\n",
    "model.eval()\n",
    "right_num = 0\n",
    "for i in range(len(x_test)):\n",
    "    x_test_input = x_test.iloc[i].values[1:]  # 提取出一行的，去掉最开始的 match_id\n",
    "    # x_test_input = x_test_input.reshape(1, 1, len(x_test_input))\n",
    "    x_test_input = x_test_input.astype(np.float32)\n",
    "    x_test_input = torch.tensor(x_test_input)\n",
    "    # x_test_input = torch.tensor(x_train_input, dtype=torch.float32)\n",
    "    x_test_input = x_test_input.to(device)\n",
    "    \n",
    "    y_test_input = y_test.iloc[i].values\n",
    "    y_test_input = y_test_input[1:]\n",
    "    y_test_input = y_test_input.astype(np.float32)\n",
    "    y_test_input = torch.tensor(y_test_input)\n",
    "    # y_test_input = torch.tensor(y_test_input, dtype=torch.float32)\n",
    "    y_test_input = y_test_input.to(device)\n",
    "    \n",
    "    # 前向传播\n",
    "    x_test_3d = x_test_input.reshape(1, 1, len(x_train_input))\n",
    "    predict = model.forward(x_test_3d)  # 只有一个 batch\n",
    "\n",
    "    predict_value = predict[0][0].item()\n",
    "    gt_values = y_test_input.item()\n",
    "\n",
    "    if predict_value >= 0.5 and gt_values == 1.0:\n",
    "        right_num += 1\n",
    "    if predict_value < 0.5 and gt_values == 0.0:\n",
    "        right_num += 1\n",
    "print(right_num / len(x_test))"
   ]
  },
  {
   "cell_type": "code",
   "execution_count": 164,
   "id": "567641d0-60e7-48e0-8245-c3d000e93146",
   "metadata": {},
   "outputs": [
    {
     "name": "stdout",
     "output_type": "stream",
     "text": [
      "0.844311377245509\n"
     ]
    }
   ],
   "source": [
    "\"\"\"\n",
    "基于 match 训练的模型，在测试集上的总正确率\n",
    "\"\"\"\n",
    "right_num = 0\n",
    "for i in range(len(predict_eval)):\n",
    "    if predict_eval[i] >= 0.5 and y_test_match[i] == 1:\n",
    "        right_num += 1\n",
    "    if predict_eval[i] < 0.5 and y_test_match[i] == 0:\n",
    "        right_num += 1\n",
    "print(right_num/len(predict_eval))\n",
    "# print(predict_eval)"
   ]
  },
  {
   "cell_type": "code",
   "execution_count": 165,
   "id": "86df2134-ee69-4ce3-94e9-961d71342998",
   "metadata": {},
   "outputs": [
    {
     "name": "stdout",
     "output_type": "stream",
     "text": [
      "0.5715401256456971\n",
      "0.086173244\n"
     ]
    }
   ],
   "source": [
    "\"\"\"\n",
    "基于 match 训练的模型，训练和测试的最小 loss\n",
    "\"\"\"\n",
    "print(min(train_loss_list))\n",
    "print(min(test_loss_list))"
   ]
  },
  {
   "cell_type": "code",
   "execution_count": 156,
   "id": "1d8408fe-bd41-4355-ba4c-a1087f95e7d1",
   "metadata": {
    "scrolled": true
   },
   "outputs": [
    {
     "name": "stdout",
     "output_type": "stream",
     "text": [
      "[0.9206349206349206, 0.9399293286219081, 0.9067357512953368, 0.880184331797235, 0.8930817610062893, 0.8811881188118812, 0.844311377245509]\n",
      "[0.9240762591362, 0.181154265999794, 0.03311549872159958, 0.9436172246932983, -0.0612839013338089, 0.9046163558959961, 0.8808015584945679, 1.269547939300537, 0.6966980695724487, 0.9071765542030334, 1.0115035772323608, 0.9419215321540833, 1.3843843936920166, 0.0536966472864151, -0.016662314534187317, 1.1948997974395752, 1.262380599975586, 1.1286433935165405, 0.7698919773101807, 1.17381751537323, 0.7129872441291809, 0.9567956924438477, 1.0168370008468628, -0.033760473132133484, 0.9407361745834351, -0.12167291343212128, -0.03506256639957428, -0.05430641770362854, 0.6936253309249878, 0.9910470247268677, 0.9358737468719482, 0.9814214110374451, 0.06383515894412994, 1.0837583541870117, 0.9934568405151367, -0.026667729020118713, -0.07169738411903381, 0.9990755319595337, 0.9401043653488159, 0.17455993592739105, 0.33808624744415283, 1.222240924835205, 0.9671586751937866, 0.9628614783287048, 0.7754747867584229, -0.0023619383573532104, 0.5093342065811157, 0.3935123085975647, -0.01795123517513275, -0.023482471704483032, -0.034144237637519836, 0.7758285999298096, 1.1106454133987427, 0.4101104140281677, 0.9714714288711548, 1.7332301139831543, 0.11803247779607773, 0.9695749878883362, -0.04137806594371796, -0.02861817181110382, 0.9629455804824829, 1.0558573007583618, 0.8348355293273926, 0.6802197694778442, -0.045720621943473816, 0.19797982275485992, 0.5453853011131287, 1.6017836332321167, 0.05827285349369049, 0.5327456593513489, 0.969970703125, 0.9828336238861084, -0.0942879319190979, 0.5487546324729919, 0.5345937609672546, 0.9722588062286377, 0.16352619230747223, -0.04266919195652008, 0.05181439220905304, 0.2698342800140381, 1.002814769744873, 0.07095055282115936, 0.1637716144323349, 0.9985628724098206, -0.02475486695766449, 0.05704908072948456, -0.002363041043281555, 1.4024837017059326, 0.974116325378418, 1.0166921615600586, 0.8807905316352844, 0.92061847448349, 0.7177826762199402, 1.0756174325942993, -0.018167272210121155, -0.03665725886821747, 1.0159906148910522, -0.21640156209468842, 0.9638432264328003, 0.9964233636856079, 0.9188464879989624, 1.0168287754058838, 0.03655014932155609, -0.02919025719165802, -0.2046024650335312, 0.02014119178056717, -0.02482868731021881, 0.9511234164237976, 0.8925553560256958, 0.02245311439037323, 1.0311352014541626, 0.00040249526500701904, 0.3311760425567627, 0.6551036238670349, 0.9864366054534912, 0.764233410358429, -0.05098789930343628, -0.0761348158121109, -0.03971731662750244, 1.0221614837646484, 0.0708397701382637, 0.9829764366149902, 1.4547512531280518, 0.9692604541778564, 0.9531453251838684, 0.9659625291824341, 0.8790340423583984, 0.9535768032073975, -0.03765547275543213, -0.02909676730632782, -0.02525395154953003, 0.97524094581604, -0.030339881777763367, 0.9245384335517883, 1.1096575260162354, 0.4767002463340759, -0.0029863864183425903, 0.040995582938194275, -0.00151728093624115, -0.010173246264457703, 1.5513243675231934, 0.9819766283035278, 0.41744309663772583, 0.17736147344112396, 0.9980285167694092, 0.5425129532814026, 0.2161393016576767, 1.0618617534637451, -0.022744134068489075, -0.03977924585342407, -0.022629067301750183, 0.5346670150756836, -0.033506616950035095, 0.9763974547386169, 0.5341362357139587, 0.2148272544145584, 0.8365451693534851, 0.9647801518440247, 0.9777867794036865, 1.406398057937622, 0.9953024983406067, 0.7386078834533691, 0.6157353520393372, 0.5407107472419739, -0.034063950181007385, -0.012939944863319397, -0.029915958642959595, -0.02802416682243347, 0.9907264709472656, 0.9944785833358765, 0.6017216444015503, 0.04703764617443085, -0.0301494300365448, 0.9956769943237305, 0.5376178622245789, 0.5383684635162354, -0.03655387461185455, -0.021658360958099365, 0.8171029090881348, -0.04427050054073334, 0.05334390699863434, -0.01072053611278534, 0.18172074854373932, 0.4719424247741699, -0.06380067765712738, 0.4994555711746216, 1.0101884603500366, 0.9141921401023865, 0.6860307455062866, 0.5610706806182861, 1.002981424331665, -0.022649958729743958, 0.9825053215026855, 0.342326283454895, 0.9965739250183105, 0.6690057516098022, 0.7887595891952515, 0.777428925037384, -0.04032956063747406, -0.02149401605129242, 0.22097237408161163, -0.030324265360832214, 1.0049511194229126, 0.012648522853851318, 0.04075457155704498, -0.033467307686805725, -0.020739898085594177, 1.020227074623108, -0.010148316621780396, 0.8486459851264954, 0.9715397357940674, -0.008697912096977234, 0.04128171503543854, 0.2900213599205017, 0.0235099196434021, 0.9482123255729675, -0.004982307553291321, 0.9926764369010925, 0.024916663765907288, 0.8855568170547485, 0.5649001598358154, 0.7088267207145691, 0.9676857590675354, -0.023771807551383972, 0.9967130422592163, -0.10516197979450226, -0.025983795523643494, 0.47911161184310913, 0.8746248483657837, 0.11198337376117706, 0.9908502101898193, -0.01580531895160675, 0.27419614791870117, 0.3702021837234497, -0.009265825152397156, 0.6417699456214905, 1.0052422285079956, 0.9192836880683899, 0.6255704164505005, 1.0151758193969727, 0.49334073066711426, 0.49257248640060425, 0.6052649021148682, 0.21452875435352325, 0.29998815059661865, -0.021508440375328064, 1.0126005411148071, 0.40468138456344604, -0.011672765016555786, 0.9895529747009277, -0.004885688424110413, 0.9646928310394287, 0.37138688564300537, 0.991503119468689, 0.5425453782081604, 1.0021947622299194, 0.5363139510154724, 0.22644807398319244, 0.9416759014129639, 0.008415177464485168, 0.22826679050922394, -0.016330495476722717, 0.2315904051065445, -0.010575905442237854, 0.9823837876319885, 0.6526710987091064, 1.0063308477401733, 0.9595876932144165, 0.8441621661186218, 0.9763448238372803, 1.003294825553894, 0.005546286702156067, 0.946655809879303, 0.6551899909973145, 0.7487006187438965, -0.0353962779045105, 0.7275207042694092, 0.0010682344436645508, 0.9590458869934082, 0.9650954008102417, 0.6480488777160645, 0.9913994073867798, 0.9354315996170044, 0.7528086304664612, 0.16555197536945343, 1.0158034563064575, -0.0198657363653183, 0.8458974361419678, 1.0127309560775757, 0.02233465015888214, 0.7367067933082581, 0.3465732932090759, 0.9792330265045166, 0.6633085012435913, 0.9791234731674194, -0.03944568336009979, 0.6244263648986816, 0.021444037556648254, 0.027548812329769135, 0.056820712983608246, -0.006587967276573181, 1.0131298303604126, 0.9984778165817261, 0.9463396668434143, -0.017803803086280823, 0.9850709438323975, 0.9815025329589844, 0.013925135135650635, 0.9677408933639526, 0.03632381558418274, -0.012342050671577454, 0.007110908627510071, 0.9746865034103394, 0.0036938339471817017, 0.5349259972572327, -0.01915949583053589, 0.9287341833114624, 0.990544319152832, 0.4807668924331665, 0.08952443301677704, 0.15464581549167633, -0.02357827126979828, 0.05067259073257446, 0.9446242451667786, 1.1599600315093994, 1.0038425922393799, 0.0039495378732681274, 0.9729560017585754, 0.9859744906425476, 0.675092339515686, -0.0212123841047287, 0.8992108106613159, 0.06765423715114594, -0.004674896597862244]\n"
     ]
    }
   ],
   "source": [
    "\"\"\"\n",
    "基于 match 训练的模型，在最后10场 match 上的正确率\n",
    "\"\"\"\n",
    "model.eval()\n",
    "match_acc_all = []\n",
    "last_match_prediction = []\n",
    "for match in test_match:\n",
    "    last_match_prediction = []\n",
    "    x_test_match = x_test[x_test['match_id'] == match]\n",
    "    x_test_match = x_test_match[x_column]\n",
    "    x_test_match = torch.tensor(x_test_match.values, dtype=torch.float32)\n",
    "    x_test_match = x_test_match.to(device)\n",
    "    \n",
    "    y_test_match = y_test[x_test['match_id'] == match]\n",
    "    y_test_match = y_test_match[y_column]\n",
    "    y_test_match = torch.tensor(y_test_match.values, dtype=torch.float32)\n",
    "    y_test_match = y_test_match.to(device)\n",
    "    # 前向传播\n",
    "    x_test_3d = x_test_match.unsqueeze(1)\n",
    "    predict_eval = model.forward(x_test_3d)\n",
    "    # 计算损失\n",
    "    match_acc = 0\n",
    "    match_right = 0\n",
    "    for i in range(len(predict_eval)):\n",
    "        predict_point = predict_eval[i][0].item()\n",
    "        gt_point = y_test_match[i].item()\n",
    "        # print(predict_eval.shape)\n",
    "        # print(predict_point, gt_point)\n",
    "        if predict_point >= 0.5 and gt_point == 1.0:\n",
    "            match_right += 1\n",
    "        if predict_point < 0.5 and gt_point == 0.0:\n",
    "            match_right += 1\n",
    "        last_match_prediction.append(predict_point)\n",
    "    match_acc = match_right/len(predict_eval)\n",
    "    match_acc_all.append(match_acc)\n",
    "print(match_acc_all)\n",
    "print(last_match_prediction)"
   ]
  },
  {
   "cell_type": "code",
   "execution_count": 58,
   "id": "82f4ea9b-014c-4d8a-ad2a-0ef9d72e7d81",
   "metadata": {},
   "outputs": [],
   "source": [
    "# 将列表转换为pandas的DataFrame\n",
    "df = pd.DataFrame(last_match_prediction, columns=['Data'])\n",
    "\n",
    "# 将DataFrame保存到Excel文件中\n",
    "df.to_excel('last_match_prediction.xlsx', index=False)\n"
   ]
  },
  {
   "cell_type": "code",
   "execution_count": 53,
   "id": "1619a6e5-46c7-49dd-b4ed-bf7bbec49a35",
   "metadata": {},
   "outputs": [
    {
     "name": "stdout",
     "output_type": "stream",
     "text": [
      "0.6777561959689831\n",
      "0.9247208470464875\n"
     ]
    }
   ],
   "source": [
    "\"\"\"\n",
    "绘制 Comparison of stochastic probability model and momentum-based model 的数据\n",
    "\"\"\"\n",
    "lstm_match_acc = [0.9641025641025641, 0.9335347432024169, 0.966789667896679, 0.9365079365079365, 0.9611307420494699, 0.9326424870466321, 0.9354838709677419, 0.9119496855345912, 0.9504950495049505, 0.9251497005988024]\n",
    "custom_match_acc = [0.6666666666666666, 0.7341389728096677, 0.7601476014760148, 0.708994708994709, 0.6819787985865724, 0.6580310880829016, 0.663594470046083, 0.610062893081761, 0.6831683168316832, 0.6107784431137725]\n",
    "print(sum(custom_match_acc) / len(custom_match_acc))\n",
    "print(sum(lstm_match_acc) / len(lstm_match_acc))"
   ]
  },
  {
   "cell_type": "code",
   "execution_count": 81,
   "id": "d7d5b137-4ce1-4817-ab48-63dc229cc11e",
   "metadata": {},
   "outputs": [
    {
     "name": "stdout",
     "output_type": "stream",
     "text": [
      "torch.Size([2374, 1, 28])\n",
      "torch.Size([2374, 1])\n"
     ]
    }
   ],
   "source": [
    "print(x_test_3d.shape)\n",
    "print(predict_eval.shape)"
   ]
  },
  {
   "cell_type": "code",
   "execution_count": 52,
   "id": "3d604173-5249-4ccb-bbfa-157a72f8d045",
   "metadata": {
    "scrolled": true
   },
   "outputs": [
    {
     "name": "stdout",
     "output_type": "stream",
     "text": [
      "[[1.0303971767425537, -0.005903000012040138, -0.00917137786746025, 1.008366584777832, -0.001596527174115181, 0.9752737283706665, 1.0544650554656982, -0.05881092697381973, 1.0095703601837158, 1.0230742692947388, 1.0318267345428467, 1.0650248527526855, 0.947513222694397, 0.11572050303220749, -0.004104803316295147, 1.330151081085205, 1.027998685836792, -0.038185663521289825, 0.9335042834281921, 0.8432217836380005, 0.9662261009216309, 0.9892261028289795, 1.0375515222549438, -0.02654946781694889, 1.234744668006897, 0.9773666858673096, 0.42429405450820923, -0.0026204008609056473, 1.0477001667022705, 0.8474248051643372, 0.9636441469192505, 1.0164216756820679, -0.027849769219756126, 0.9842653274536133, 1.0263150930404663, -0.02712770737707615, -0.013168699108064175, 1.0126811265945435, 1.01450514793396, 0.06952257454395294, -0.018321439623832703, 0.8872114419937134, 0.9516017436981201, 0.9871244430541992, 1.0219640731811523, 1.1099369525909424, 0.9994621276855469, 0.7044956684112549, -0.03653012216091156, 0.003244660794734955, -0.02120882458984852, 0.1878156065940857, 1.0030767917633057, 1.0003502368927002, 1.0241793394088745, 0.08958985656499863, -0.016997704282402992, 1.0240185260772705, 0.004798660054802895, 0.0072746966034173965, 1.0030314922332764, 0.012572569772601128, 0.3654213547706604, 1.0391992330551147, 0.054929301142692566, 0.9364478588104248, -0.07141751050949097, 1.0684993267059326, -0.00936264730989933, 0.42090922594070435, 0.9970371723175049, 1.031333088874817, 0.1270756870508194, 0.9436392188072205, 0.9791696071624756, 1.0364662408828735, 1.013532280921936, -0.011434080079197884, -0.0020555350929498672, 0.21438471972942352, 0.9679336547851562, 1.1297543048858643, -0.0006990004330873489, 0.9934916496276855, -0.028436312451958656, 0.004521330818533897, 0.007537646219134331, 0.003160446882247925, 1.035882592201233, 1.0297473669052124, 0.9798096418380737, 1.034228801727295, -0.03301135450601578, -0.02251974120736122, -0.015197547152638435, 0.0013969074934720993, 0.9941742420196533, -0.121269591152668, 1.2829947471618652, 0.9185606241226196, 1.0312763452529907, 1.0122907161712646, 0.0054839495569467545, -0.0027183089405298233, -0.2049979716539383, -0.010675447061657906, -0.01144702173769474, 0.9978324174880981, 0.4390919506549835, 0.4961892366409302, 1.0074355602264404, 0.1644774228334427, 1.1008541584014893, 0.2728520929813385, 1.0261585712432861, 0.8608263731002808, -0.049097560346126556, -0.09002675861120224, -0.028235970064997673, 1.0337181091308594, -0.00775454007089138, 1.037848711013794, 0.04321233183145523, 0.8953657150268555, 1.031942367553711, 1.0423505306243896, 1.0203964710235596, 1.0395437479019165, -0.040053434669971466, -0.006162876263260841, -0.006039412692189217, 0.39005374908447266, -0.029648901894688606, 0.14273683726787567, 0.9307111501693726, 0.9786747694015503, -0.008409971371293068, -0.0066688451915979385, -0.01650080271065235, -0.012551376596093178, 1.0413236618041992, 1.0236088037490845, 0.008660724386572838, 0.4644893407821655, 1.0087828636169434, -0.034987784922122955, -0.016145924106240273, 0.9642390012741089, -0.07581350207328796, -0.05593904107809067, -0.0083839762955904, 1.0339579582214355, -0.08204363286495209, 1.035869836807251, -0.021364955231547356, -0.005129752680659294, 0.7593099474906921, 1.0587981939315796, 1.0309274196624756, 0.27864450216293335, 1.0282225608825684, 1.020766019821167, 0.9988560676574707, 0.011913398280739784, -0.022387364879250526, -0.004278102889657021, -0.031361110508441925, 0.711676299571991, 1.051340937614441, 1.0237464904785156, 1.0327177047729492, -0.014102721586823463, -0.009011739864945412, 1.0374789237976074, -0.17227023839950562, 0.978592038154602, -0.013538504019379616, -0.005877213552594185, 0.18597383797168732, 1.0502655506134033, -0.008078733459115028, -0.026329578831791878, 0.008368117734789848, 1.0493841171264648, 0.2988356351852417, -8.65403562784195e-05, 1.0968633890151978, 1.0247032642364502, -0.006826454773545265, 0.6915925145149231, 1.100054144859314, -0.010933177545666695, 1.0471142530441284, -0.043484821915626526, 1.026441216468811, 1.047153115272522, -0.024531947448849678, 0.01263820193707943, -0.010257521644234657, -0.07403896749019623, -0.01880696602165699, -0.06449722498655319, 0.8951388597488403, 0.004266340285539627, -0.014311442151665688, -0.004602814093232155, -0.013764480128884315, 1.0167970657348633, -0.018309632316231728, 0.165558859705925, 1.0227737426757812, -0.09109272807836533, 0.025977617129683495, 0.10290466994047165, -0.08377134799957275, -0.4251278340816498, -0.009388701990246773, 0.9205666780471802, -0.016125338152050972, 0.1607544720172882, 0.287298321723938, 1.0410852432250977, 1.0899094343185425, -0.05910004675388336, 1.0149062871932983, -0.003113904967904091, 0.006699627265334129, 0.09405828267335892, 0.22579874098300934, 0.008489592000842094, 1.0169003009796143, 0.00502813421189785, 1.0408324003219604, 0.012968530878424644, -0.006066480651497841, 1.044560432434082, 1.081094741821289, -0.03042377345263958, 0.6058310270309448, 1.2090399265289307, 0.047211550176143646, 1.023521065711975, 1.0570874214172363, -0.034445904195308685, 1.0404064655303955, -0.003291616216301918, 1.016608476638794, 0.2076772302389145, -0.008030818775296211, 0.8436801433563232, -0.0005070064216852188, 0.05783184617757797, 1.0191941261291504, 1.0715079307556152, -0.016193637624382973, 1.0534405708312988, 1.221787929534912, -0.01699649728834629, 0.9458520412445068, -0.007170403376221657, 1.0506165027618408, -0.0942300334572792, -0.04670783877372742, 0.008576972410082817, 1.110154151916504, 0.7759695649147034, 1.0251609086990356, 1.024828553199768, 1.0893357992172241, 1.0227057933807373, 0.633489191532135, -0.09791957587003708, 1.0267176628112793, -0.024321267381310463, 1.0335047245025635, -0.012064332142472267, -0.02700040675699711, -0.014733666554093361, 1.0501501560211182, 0.9661811590194702, 0.013270987197756767, 0.7452747821807861, 0.9876539707183838, 0.21850162744522095, -0.002158006653189659, 1.003403902053833, 0.026028579100966454, 0.025519249960780144, -0.09966463595628738, -0.005117008462548256, -0.03394963592290878, -0.02089558355510235, 0.9373531341552734, -0.026924943551421165, 0.9294548034667969, -0.015090981498360634, -0.01571863703429699, -0.09123383462429047, -0.10190321505069733, -0.041749559342861176, 0.0038973819464445114, 0.8344686031341553, 0.9601315259933472, 0.9544098377227783, -0.017556631937623024, 0.8633657693862915, 0.6770752668380737, 0.39496278762817383, 0.3866647481918335, 0.0055423881858587265, 0.0004322286695241928, 0.0011619236320257187, 0.8235619068145752, -0.016622478142380714, 1.0213627815246582, -0.012441897764801979, 1.0073697566986084, 0.8651838302612305, 1.1113619804382324, -0.006054682657122612, 0.3077562153339386, 0.003449147567152977, -0.009465837851166725, 0.9979379177093506, 0.21237142384052277, 0.8415553569793701, 0.36991429328918457, 1.0178248882293701, 1.0391151905059814, -0.03415622562170029, -0.06010500341653824, 0.9791826605796814, -0.06551282852888107, -0.009617963805794716]]\n"
     ]
    }
   ],
   "source": [
    "\"\"\"\n",
    "通过梯度归因（gradient attribution），计算输入对输出的贡献\n",
    "\"\"\"\n",
    "from captum.attr import IntegratedGradients\n",
    "from captum.attr import visualization as viz\n",
    "\n",
    "# 假设你已经定义了LSTMModel并且实例化了模型\n",
    "# model = LSTMModel(input_size=10, hidden_size=50, num_layers=1, output_size=1)\n",
    "model.train()\n",
    "match = \"2023-wimbledon-1701\"\n",
    "x_test_match = x_test[x_test['match_id'] == match]\n",
    "x_test_match = x_test_match[x_column]\n",
    "x_test_match = torch.tensor(x_test_match.values, dtype=torch.float32)\n",
    "x_test_match = x_test_match.to(device)\n",
    "\n",
    "# y_test_match = y_test[x_test['match_id'] == match]\n",
    "# y_test_match = y_test_match[y_column]\n",
    "# y_test_match = torch.tensor(y_test_match.values, dtype=torch.float32)\n",
    "# y_test_match = y_test_match.to(device)\n",
    "# 前向传播\n",
    "x_test_3d = x_test_match.unsqueeze(1)\n",
    "predict_eval = model.forward(x_test_3d)\n",
    "\n",
    "# print(predict_eval.cpu().numpy())\n",
    "# print(predict_eval.shape(1, len(predict_eval)))\n",
    "\n",
    "print(predict_eval.transpose(1, 0).tolist())\n",
    "\n",
    "# 将列表转换为pandas的DataFrame\n",
    "df = pd.DataFrame(last_match_prediction, columns=['Data'])\n",
    "\n",
    "# 将DataFrame保存到Excel文件中\n",
    "df.to_excel('last_match_prediction.xlsx', index=False)"
   ]
  },
  {
   "cell_type": "code",
   "execution_count": 45,
   "id": "803f67b3-58a7-448f-bad4-b77e20156775",
   "metadata": {},
   "outputs": [
    {
     "name": "stdout",
     "output_type": "stream",
     "text": [
      "tensor([[1.0498],\n",
      "        [0.1978],\n",
      "        [0.0388],\n",
      "        [1.0303],\n",
      "        [0.0000],\n",
      "        [0.9833],\n",
      "        [1.0618],\n",
      "        [0.0630],\n",
      "        [1.0338],\n",
      "        [1.0857]], device='cuda:0', grad_fn=<SubBackward0>)\n",
      "tensor([1.0498, 0.1978, 0.0388, 1.0303, 0.0000, 0.9833, 1.0618, 0.0630, 1.0338,\n",
      "        1.0857], device='cuda:0', grad_fn=<ViewBackward0>)\n",
      "tensor([0.0359, 0.8879, 1.0469, 0.0554, 1.0857, 0.1024, 0.0239, 1.0227, 0.0519,\n",
      "        0.0000], device='cuda:0', grad_fn=<SubBackward0>)\n"
     ]
    }
   ],
   "source": [
    "\"\"\"\n",
    "可视化最后那一场比赛的预测结果\n",
    "\"\"\"\n",
    "\n",
    "# print(x_visual)\n",
    "# x_visual_match = x_visual[x_visual['match_id'] == match]\n",
    "x_visual_match = x_visual[x_column]\n",
    "# print(x_visual_match)\n",
    "x_visual_match = torch.tensor(x_visual_match.values, dtype=torch.float32)\n",
    "x_visual_match = x_visual_match.to(device)\n",
    "\n",
    "# y_visual_match = y_visual[y_visual['match_id'] == match]\n",
    "y_visual_match = y_visual[y_column]\n",
    "y_visual_match = torch.tensor(y_visual_match.values, dtype=torch.float32)\n",
    "y_visual_match = y_visual_match.to(device)\n",
    "\n",
    "# 前向传播\n",
    "x_visual_3d = x_visual_match.unsqueeze(1)\n",
    "predict = model.forward(x_visual_3d)  # 只有一个 batch\n",
    "\n",
    "visual_predict = predict[:10]\n",
    "visual_predict = visual_predict - min(visual_predict)\n",
    "print(visual_predict)\n",
    "print(visual_predict.reshape(10))\n",
    "print(max(visual_predict) - visual_predict.reshape(10))\n"
   ]
  },
  {
   "cell_type": "code",
   "execution_count": 77,
   "id": "5355b930-f007-4f50-9733-feca63793c57",
   "metadata": {},
   "outputs": [
    {
     "name": "stdout",
     "output_type": "stream",
     "text": [
      "(2186, 1)\n",
      "(2186, 1)\n",
      "2186\n",
      "2186\n",
      "0.9080512351326624\n"
     ]
    }
   ],
   "source": [
    "# 绘制预测值和真实值的图像\n",
    "# plt.figure()\n",
    "# plt.scatter(range(len(x_test)), x_test, label='Predictions')\n",
    "# plt.scatter(range(len(predict_eval)), predict_eval, label='Targets')\n",
    "# plt.legend()\n",
    "# plt.show()\n",
    "import matplotlib.pyplot as plt\n",
    "\n",
    "\n",
    "# 将张量转换为 numpy 数组或者 Python 标量\n",
    "y_test_array = y_test.numpy() if isinstance(y_test, torch.Tensor) else y_test\n",
    "predict_eval_array = predict_eval.detach().numpy() if isinstance(predict_eval, torch.Tensor) else predict_eval\n",
    "\n",
    "print(y_test_array.shape)\n",
    "print(predict_eval_array.shape)\n",
    "\n",
    "print(len(y_test_array))\n",
    "print(len(predict_eval_array))\n",
    "\n",
    "right_num = 0\n",
    "for i in range(len(predict_eval_array)):\n",
    "    if predict_eval_array[i] >= 0.5 and y_test_array[i] == 1:\n",
    "        right_num += 1\n",
    "    if predict_eval_array[i] < 0.5 and y_test_array[i] == 0:\n",
    "        right_num += 1\n",
    "print(right_num / len(y_test_array))\n",
    "        \n",
    "        \n",
    "\n",
    "# # 绘制预测值和真实值的图像\n",
    "# plt.figure()\n",
    "# plt.scatter(range(len(y_test_array)), y_test_array, label='Predictions')\n",
    "# plt.scatter(range(len(predict_eval_array)), predict_eval_array, label='Targets')\n",
    "# plt.legend()\n",
    "# plt.show()"
   ]
  },
  {
   "cell_type": "code",
   "execution_count": 57,
   "id": "b0359d90-90e1-4038-a814-48a720224b59",
   "metadata": {},
   "outputs": [
    {
     "name": "stdout",
     "output_type": "stream",
     "text": [
      "tensor([0.0215, 0.0185, 0.0196, 0.0005, 0.0330, 0.0249, 0.0185, 0.2607, 0.2253,\n",
      "        0.0521, 0.0374, 0.3061, 0.3489, 0.0157, 0.1960, 0.0124, 0.0119, 0.0238,\n",
      "        0.0054, 0.1226, 0.0156, 0.0710], device='cuda:0')\n",
      "tensor([0.0117, 0.0100, 0.0107, 0.0003, 0.0179, 0.0135, 0.0101, 0.1415, 0.1223,\n",
      "        0.0283, 0.0203, 0.1662, 0.1894, 0.0085, 0.1064, 0.0068, 0.0065, 0.0129,\n",
      "        0.0029, 0.0666, 0.0085, 0.0386], device='cuda:0')\n",
      "输入向量中对LSTM输出贡献最大的维度是： 12\n",
      "22\n",
      "p2_unf_err 0.18943701684474945\n",
      "p1_unf_err 0.1662312000989914\n",
      "p1_winner 0.14153935015201569\n",
      "p2_winner 0.12231723219156265\n",
      "p2_net_pt 0.10643469542264938\n",
      "serve_width 0.06658735126256943\n",
      "return_depth 0.0385674349963665\n",
      "p1_double_fault 0.028301609680056572\n",
      "0.8594158906489611\n",
      "0.14058410935103893\n"
     ]
    }
   ],
   "source": [
    "\"\"\"\n",
    "根据输入数据的梯度，判断输入对输出的影响程度\n",
    "\"\"\"\n",
    "# 计算输入向量中每个维度的梯度\n",
    "# x_test_3d = x_test.unsqueeze(1)\n",
    "# input_data = x_test_3d\n",
    "model.train()\n",
    "# x_train_3d = x_train.unsqueeze(1)\n",
    "input_data = x_train_3d\n",
    "input_data.requires_grad = True\n",
    "predictions = model(input_data)\n",
    "loss = predictions.sum()\n",
    "loss.backward()\n",
    "\n",
    "# 获取梯度\n",
    "gradients = input_data.grad[0][0]\n",
    "\n",
    "# 计算梯度的绝对值并归一化\n",
    "abs_gradients = torch.abs(gradients)\n",
    "normalized_gradients = abs_gradients / torch.sum(abs_gradients)\n",
    "normalized_gradients_sorted = sorted(normalized_gradients, reverse=True)\n",
    "# 找到对输出贡献最大的维度\n",
    "max_contributing_dimension = torch.argmax(normalized_gradients).item()\n",
    "\n",
    "print(abs_gradients)\n",
    "print(normalized_gradients)\n",
    "print(\"输入向量中对LSTM输出贡献最大的维度是：\", max_contributing_dimension)\n",
    "print(len(gradients))\n",
    "# print(normalized_gradients_sorted[:10])\n",
    "\n",
    "gradient_sum = 0\n",
    "for i in range(8):\n",
    "    gradient_sum += normalized_gradients_sorted[i].item()\n",
    "    for j in range(len(normalized_gradients)):\n",
    "        if normalized_gradients[j].item() == normalized_gradients_sorted[i].item():\n",
    "            # print(j)\n",
    "            print(train_columns[j + 1] + \" \" + str(normalized_gradients[j].item()))\n",
    "        \n",
    "print(gradient_sum)\n",
    "print(1 - gradient_sum)"
   ]
  },
  {
   "cell_type": "code",
   "execution_count": 45,
   "id": "899586f4-a58c-4c18-bceb-3c9a7f611b0e",
   "metadata": {},
   "outputs": [
    {
     "name": "stdout",
     "output_type": "stream",
     "text": [
      "tensor([0.0434, 0.1917, 0.0666, 0.1538, 0.0928, 0.1199, 0.0148, 0.1505, 0.0193,\n",
      "        0.1472])\n",
      "输入向量中对LSTM输出贡献最大的维度是： 1\n"
     ]
    }
   ],
   "source": [
    "import torch\n",
    "import torch.nn as nn\n",
    "import numpy as np\n",
    "\n",
    "# 创建一个简单的LSTM模型\n",
    "input_dim = 10\n",
    "output_dim = 1\n",
    "sequence_length = 1\n",
    "\n",
    "# 定义LSTM模型\n",
    "class LSTMModel(nn.Module):\n",
    "    def __init__(self, input_size, hidden_size, output_size):\n",
    "        super(LSTMModel, self).__init__()\n",
    "        self.lstm = nn.LSTM(input_size, hidden_size)\n",
    "        self.fc = nn.Linear(hidden_size, output_size)\n",
    "\n",
    "    def forward(self, x):\n",
    "        lstm_out, _ = self.lstm(x)\n",
    "        output = self.fc(lstm_out[-1])\n",
    "        return output\n",
    "\n",
    "# 创建模型实例\n",
    "model = LSTMModel(input_dim, output_dim, output_dim)\n",
    "\n",
    "# 定义一个输入向量\n",
    "input_vector = np.random.rand(input_dim)\n",
    "\n",
    "# 将输入向量转换为PyTorch张量\n",
    "input_data = torch.Tensor(input_vector).view(sequence_length, 1, input_dim)\n",
    "\n",
    "# 获取LSTM模型的输出\n",
    "output = model(input_data)\n",
    "\n",
    "# 计算输入向量中每个维度的梯度\n",
    "input_data.requires_grad = True\n",
    "predictions = model(input_data)\n",
    "loss = predictions.sum()\n",
    "loss.backward()\n",
    "\n",
    "# 获取梯度\n",
    "gradients = input_data.grad[0][0]\n",
    "\n",
    "# 计算梯度的绝对值并归一化\n",
    "abs_gradients = torch.abs(gradients)\n",
    "normalized_gradients = abs_gradients / torch.sum(abs_gradients)\n",
    "\n",
    "# 找到对输出贡献最大的维度\n",
    "max_contributing_dimension = torch.argmax(normalized_gradients).item()\n",
    "print(normalized_gradients)\n",
    "print(\"输入向量中对LSTM输出贡献最大的维度是：\", max_contributing_dimension)\n"
   ]
  },
  {
   "cell_type": "code",
   "execution_count": 155,
   "id": "e9c774a1-5877-4c83-9475-469369e207a6",
   "metadata": {},
   "outputs": [],
   "source": [
    "# 保存数组到文件\n",
    "np.savetxt('predict_point.txt', predict_eval_array)"
   ]
  },
  {
   "cell_type": "code",
   "execution_count": 138,
   "id": "05f01b6e-a50c-4e8a-894d-26fec9191dd9",
   "metadata": {},
   "outputs": [
    {
     "name": "stdout",
     "output_type": "stream",
     "text": [
      "0.9501372369624885\n",
      "2186\n"
     ]
    },
    {
     "data": {
      "image/png": "[encoded data removed]",
      "text/plain": [
       "<Figure size 640x480 with 1 Axes>"
      ]
     },
     "metadata": {},
     "output_type": "display_data"
    }
   ],
   "source": [
    "# 将预测值和真实值列表转换为 NumPy 数组\n",
    "# all_predictions = np.concatenate(all_predictions, axis=0)\n",
    "# all_targets = np.concatenate(all_targets, axis=0)\n",
    "# all_predictions = all_predictions[:100]\n",
    "# all_predictions = all_predictions[]\n",
    "\n",
    "# for i in range(len(all_predictions)):\n",
    "#     if all_predictions[i] >= 1.5:\n",
    "#         all_predictions[i] = 2\n",
    "#     else:\n",
    "#         all_predictions[i] = 1\n",
    "        \n",
    "# all_targets = all_targets[:100]\n",
    "# print(all_predictions.shape)\n",
    "# all_targets = all_targets[:100]\n",
    "\n",
    "total = len(all_predictions)\n",
    "right = 0\n",
    "for i in range(len(all_predictions)):\n",
    "    if all_predictions[i] >= 1.5:\n",
    "        if all_targets[i] == 2:\n",
    "            right += 1\n",
    "    else:\n",
    "        if all_targets[i] == 1:\n",
    "            right += 1\n",
    "\n",
    "print(right / total)\n",
    "print(total)\n",
    "# 绘制预测值和真实值的图像\n",
    "plt.figure()\n",
    "plt.scatter(range(len(all_predictions[-20:])), all_predictions[-20:], label='Predictions')\n",
    "plt.scatter(range(len(all_targets[-20:])), all_targets[-20:], label='Targets')\n",
    "plt.legend()\n",
    "plt.show()\n"
   ]
  },
  {
   "cell_type": "markdown",
   "id": "099b4b2b-2c3e-407c-aec7-37c96675b9bb",
   "metadata": {
    "jp-MarkdownHeadingCollapsed": true
   },
   "source": [
    "# Figure Code"
   ]
  },
  {
   "cell_type": "code",
   "execution_count": 22,
   "id": "4dad48bc-ed82-4c66-86b6-6a6474f99135",
   "metadata": {},
   "outputs": [
    {
     "data": {
      "image/png": "[encoded data removed]",
      "text/plain": [
       "<Figure size 640x480 with 2 Axes>"
      ]
     },
     "metadata": {},
     "output_type": "display_data"
    }
   ],
   "source": [
    "import numpy as np\n",
    "import matplotlib.pyplot as plt\n",
    "from numpy.polynomial.polynomial import Polynomial\n",
    "\n",
    "# 假设我们有的五个点\n",
    "x = np.array([1, 2, 3, 4, 5])\n",
    "y = np.array([2, 3, 2.5, 5, 4])\n",
    "\n",
    "# 使用多项式拟合这五个点\n",
    "coeffs = np.polyfit(x, y, 4)  # 4次多项式拟合\n",
    "polynomial = Polynomial(coeffs[::-1])\n",
    "\n",
    "# 创建一个新的x值数组，用于绘制拟合曲线\n",
    "x_fit = np.linspace(x.min(), x.max(), )\n",
    "y_fit = polynomial(x_fit)\n",
    "y_fit = [0.55, 0.6, 0.75, 0.8, 0.95]\n",
    "\n",
    "# 创建图表和第一个坐标轴\n",
    "fig, ax1 = plt.subplots()\n",
    "\n",
    "# 在第一个坐标轴上绘制折线图\n",
    "ax1.plot(x, y, 'o-', color='blue', label='Original Points')\n",
    "ax1.set_xlabel('X axis')\n",
    "ax1.set_ylabel('Y1 axis', color='blue')\n",
    "ax1.tick_params('y', colors='blue')\n",
    "\n",
    "# 创建第二个坐标轴，共享X轴\n",
    "ax2 = ax1.twinx()\n",
    "\n",
    "# 在第二个坐标轴上绘制拟合曲线\n",
    "ax2.plot(x_fit, y_fit, '-', color='red', label='Fitted Curve')\n",
    "ax2.set_ylabel('Y2 axis', color='red')\n",
    "ax2.tick_params('y', colors='red')\n",
    "\n",
    "# 添加图例\n",
    "ax1.legend(loc='upper left')\n",
    "ax2.legend(loc='upper right')\n",
    "\n",
    "# 显示图表\n",
    "plt.show()\n"
   ]
  },
  {
   "cell_type": "code",
   "execution_count": 24,
   "id": "646ecc5c-2b9f-4013-946c-f2775adba407",
   "metadata": {},
   "outputs": [
    {
     "data": {
      "image/png": "[encoded data removed]",
      "text/plain": [
       "<Figure size 640x480 with 1 Axes>"
      ]
     },
     "metadata": {},
     "output_type": "display_data"
    }
   ],
   "source": [
    "import numpy as np\n",
    "import matplotlib.pyplot as plt\n",
    "from numpy.polynomial.polynomial import Polynomial\n",
    "\n",
    "# 假设我们有的五个点\n",
    "x = np.array([1, 2, 3, 4, 5])\n",
    "y = np.array([2, 3, 2.5, 5, 4])\n",
    "\n",
    "# 使用多项式拟合这五个点\n",
    "coeffs = np.polyfit(x, y, 2)  # 4次多项式拟合\n",
    "polynomial = Polynomial(coeffs[::-1])\n",
    "\n",
    "# 创建一个新的x值数组，用于绘制拟合曲线\n",
    "x_fit = np.linspace(x.min(), x.max(), 100)\n",
    "y_fit = polynomial(x_fit)\n",
    "\n",
    "# 绘制折线图\n",
    "plt.plot(x, y, 'o-', label='Original Points')\n",
    "\n",
    "# 绘制拟合曲线\n",
    "plt.plot(x_fit, y_fit, '-', label='Fitted Curve')\n",
    "\n",
    "# 添加图例\n",
    "plt.legend()\n",
    "\n",
    "# 显示图表\n",
    "plt.show()\n"
   ]
  },
  {
   "cell_type": "markdown",
   "id": "4d69ee9d-2377-41f4-b9b3-e008f26b3560",
   "metadata": {
    "jp-MarkdownHeadingCollapsed": true
   },
   "source": [
    "# Code for WTT"
   ]
  },
  {
   "cell_type": "markdown",
   "id": "7dde24f7-cc99-455d-acee-1f1450926751",
   "metadata": {
    "jp-MarkdownHeadingCollapsed": true
   },
   "source": [
    "## Datasets for WTT"
   ]
  },
  {
   "cell_type": "code",
   "execution_count": 27,
   "id": "127bccb6-072c-4dc1-a049-9b0fbc434f82",
   "metadata": {},
   "outputs": [],
   "source": [
    "# 指定CSV文件的路径\n",
    "csv_file_path_wtt = './data/WTT_2024_extand.csv'\n",
    "\n",
    "# 使用pandas的read_csv函数读取CSV文件\n",
    "df_wtt = pd.read_csv(csv_file_path_wtt)\n",
    "\n",
    "# # 找到重复行\n",
    "# duplicate_rows = df_wtt[df_wtt.duplicated()]\n",
    "\n",
    "# # 合并重复行\n",
    "# df_wtt = df_wtt.groupby(df_wtt.columns.tolist(), as_index=False).size()\n",
    "\n",
    "# # # 将合并后的 DataFrame 写入新的 Excel 文件\n",
    "# # merged_df.to_excel('merged_output.xlsx', index=False)\n",
    "# print(df_wtt.shape)"
   ]
  },
  {
   "cell_type": "code",
   "execution_count": 29,
   "id": "cb43ae1c-5e50-4784-b54c-ca3caaad7898",
   "metadata": {},
   "outputs": [
    {
     "name": "stdout",
     "output_type": "stream",
     "text": [
      "(606,)\n",
      "<class 'pandas.core.frame.DataFrame'>\n",
      "(545, 12)\n",
      "(61, 12)\n"
     ]
    },
    {
     "data": {
      "text/plain": [
       "'\\n测算单场 match 被记录的次数\\n'"
      ]
     },
     "execution_count": 29,
     "metadata": {},
     "output_type": "execute_result"
    }
   ],
   "source": [
    "matches = df_wtt['match_id']\n",
    "\n",
    "train_match_data = df_wtt[:int(len(matches) * 0.8)]\n",
    "test_match_data = df_wtt[int(len(matches) * 0.8):]\n",
    "\n",
    "print(matches.shape)\n",
    "print(type(train_match_data))\n",
    "print(train_match_data.shape)\n",
    "print(test_match_data.shape)\n",
    "\n",
    "train_field = ['g_1', 'g_2', 'g_3', 'g_4', 'g_5']\n",
    "test_field = ['y_1', 'y_2', 'y_3', 'y_4', 'y_5']\n",
    "\n",
    "\"\"\"\n",
    "测算单场 match 被记录的次数\n",
    "\"\"\"\n",
    "# matches_unique = {}\n",
    "# for match in matches:\n",
    "#     if match not in matches_unique.keys():\n",
    "#         matches_unique[match] = 0\n",
    "#     else:\n",
    "#         matches_unique[match] = matches_unique[match] + 1\n",
    "# for match in matches_unique.keys():\n",
    "#     print(match + \":\" + str(matches_unique[match]))"
   ]
  },
  {
   "cell_type": "code",
   "execution_count": 30,
   "id": "7dff51ff-4f03-4dd8-8a84-c4f75736733b",
   "metadata": {},
   "outputs": [],
   "source": [
    "\"\"\"\n",
    "根据match_id 生成一组用于训练、测试的数据。\n",
    "\"\"\"\n",
    "def get_train_match_data(match_id):\n",
    "    # match_id = 0\n",
    "    x_list = []\n",
    "    y_list = []\n",
    "    train_data_1 = train_match_data.iloc[match_id]\n",
    "    train_data_2 = train_match_data.iloc[match_id + 1]\n",
    "    x_1 = [train_data_1['g_1'], train_data_2['g_1'], 0, 0, 0, 0, 0, 0]\n",
    "    y_1 = [train_data_1['y_2']]\n",
    "    x_2 = [train_data_1['g_1'], train_data_2['g_1'], train_data_1['g_2'], train_data_2['g_2'], 0, 0, 0, 0]\n",
    "    y_2 = [train_data_1['y_3']]\n",
    "    x_3 = [train_data_1['g_1'], train_data_2['g_1'], train_data_1['g_2'], train_data_2['g_2'], train_data_1['g_3'], train_data_2['g_3'], 0, 0]\n",
    "    y_3 = [train_data_1['y_4']]\n",
    "    x_4 = [train_data_1['g_1'], train_data_2['g_1'], train_data_1['g_2'], train_data_2['g_2'], train_data_1['g_3'], train_data_2['g_3'], train_data_1['g_4'], train_data_2['g_4']]\n",
    "    y_4 = [train_data_1['y_5']]\n",
    "    # print(x_1)\n",
    "    # print(y_1)\n",
    "    # print(x_2)\n",
    "    # print(y_2)\n",
    "    # print(x_3)\n",
    "    # print(y_3)\n",
    "    # print(x_4)\n",
    "    # print(y_4)\n",
    "    x_list.append(x_1)\n",
    "    x_list.append(x_2)\n",
    "    x_list.append(x_3)\n",
    "    x_list.append(x_4)\n",
    "    y_list.append(y_1)\n",
    "    y_list.append(y_2)\n",
    "    y_list.append(y_3)\n",
    "    y_list.append(y_4)\n",
    "    return x_list, y_list\n",
    "\n",
    "# x_list, y_list = get_train_match_data(0)\n",
    "# print(x_list)\n",
    "# print(y_list)"
   ]
  },
  {
   "cell_type": "markdown",
   "id": "1e5e80ab-1d0a-421c-9008-1457676fd384",
   "metadata": {
    "jp-MarkdownHeadingCollapsed": true
   },
   "source": [
    "## Model and Train for WTT"
   ]
  },
  {
   "cell_type": "code",
   "execution_count": 31,
   "id": "9b3dcbbb-e2f0-42a9-afaa-b493f6cfcc51",
   "metadata": {},
   "outputs": [],
   "source": [
    "class LSTMModel(nn.Module):\n",
    "    def __init__(self, input_size, hidden_size, num_layers, output_size):\n",
    "        super(LSTMModel, self).__init__()\n",
    "        self.hidden_size = hidden_size\n",
    "        self.num_layers = num_layers\n",
    "\n",
    "        # 定义LSTM层\n",
    "        self.lstm = nn.LSTM(input_size, hidden_size, num_layers, batch_first=True)\n",
    "\n",
    "        # 定义全连接层\n",
    "        self.fc = nn.Linear(hidden_size, output_size)\n",
    "\n",
    "    def forward(self, x):\n",
    "        # 初始化隐状态\n",
    "        h0 = torch.zeros(self.num_layers, x.size(0), self.hidden_size).to(x.device)\n",
    "        c0 = torch.zeros(self.num_layers, x.size(0), self.hidden_size).to(x.device)\n",
    "        \n",
    "        # 使用squeeze移除大小为1的维度\n",
    "        h0 = h0.squeeze(0)\n",
    "        c0 = c0.squeeze(0)\n",
    "        \n",
    "        # 前向传播\n",
    "        out, _ = self.lstm(x, (h0, c0))\n",
    "\n",
    "        # 取LSTM最后一步的输出\n",
    "        out = self.fc(out[:, -1, :])\n",
    "\n",
    "        return out"
   ]
  },
  {
   "cell_type": "code",
   "execution_count": 32,
   "id": "0d8b01f0-2305-4fc4-aeb5-289344df402c",
   "metadata": {},
   "outputs": [],
   "source": [
    "# 建立模型\n",
    "device = 'cuda'\n",
    "input_size = 8\n",
    "hidden_size = 68\n",
    "num_layers = 2\n",
    "output_size = 1\n",
    "model = LSTMModel(input_size, hidden_size, num_layers, output_size)\n",
    "model.to(device)\n",
    "# 损失函数\n",
    "loss_func = nn.MSELoss()  # 使用均方误差\n",
    "loss_func.to(device)\n",
    "# 优化方式\n",
    "# optim = torch.optim.SGD(model.parameters(), lr=0.02)  # 梯度下降，参数就是权重和偏执\n",
    "optim = torch.optim.Adam(model.parameters(), lr=0.001)\n",
    "# 迭代次数\n",
    "epoch = 1000"
   ]
  },
  {
   "cell_type": "code",
   "execution_count": 33,
   "id": "44e49e3e-e234-4bd9-8d16-e90a8687306d",
   "metadata": {},
   "outputs": [
    {
     "name": "stderr",
     "output_type": "stream",
     "text": [
      "  0%|                                                                  | 0/1000 [00:00<?, ?it/s]\n"
     ]
    },
    {
     "ename": "IndexError",
     "evalue": "single positional indexer is out-of-bounds",
     "output_type": "error",
     "traceback": [
      "\u001b[0;31m---------------------------------------------------------------------------\u001b[0m",
      "\u001b[0;31mIndexError\u001b[0m                                Traceback (most recent call last)",
      "Cell \u001b[0;32mIn[33], line 11\u001b[0m\n\u001b[1;32m      9\u001b[0m train_loss_epoch \u001b[38;5;241m=\u001b[39m \u001b[38;5;241m0\u001b[39m\n\u001b[1;32m     10\u001b[0m \u001b[38;5;28;01mfor\u001b[39;00m i \u001b[38;5;129;01min\u001b[39;00m \u001b[38;5;28mrange\u001b[39m(\u001b[38;5;241m0\u001b[39m, \u001b[38;5;28mlen\u001b[39m(train_match_data), \u001b[38;5;241m2\u001b[39m):\n\u001b[0;32m---> 11\u001b[0m     x, y \u001b[38;5;241m=\u001b[39m \u001b[43mget_train_match_data\u001b[49m\u001b[43m(\u001b[49m\u001b[43mi\u001b[49m\u001b[43m)\u001b[49m\n\u001b[1;32m     12\u001b[0m     input_x \u001b[38;5;241m=\u001b[39m torch\u001b[38;5;241m.\u001b[39mtensor(x)\u001b[38;5;241m.\u001b[39mfloat()\n\u001b[1;32m     13\u001b[0m     input_x \u001b[38;5;241m=\u001b[39m input_x\u001b[38;5;241m.\u001b[39mto(device)\n",
      "Cell \u001b[0;32mIn[30], line 9\u001b[0m, in \u001b[0;36mget_train_match_data\u001b[0;34m(match_id)\u001b[0m\n\u001b[1;32m      7\u001b[0m y_list \u001b[38;5;241m=\u001b[39m []\n\u001b[1;32m      8\u001b[0m train_data_1 \u001b[38;5;241m=\u001b[39m train_match_data\u001b[38;5;241m.\u001b[39miloc[match_id]\n\u001b[0;32m----> 9\u001b[0m train_data_2 \u001b[38;5;241m=\u001b[39m \u001b[43mtrain_match_data\u001b[49m\u001b[38;5;241;43m.\u001b[39;49m\u001b[43miloc\u001b[49m\u001b[43m[\u001b[49m\u001b[43mmatch_id\u001b[49m\u001b[43m \u001b[49m\u001b[38;5;241;43m+\u001b[39;49m\u001b[43m \u001b[49m\u001b[38;5;241;43m1\u001b[39;49m\u001b[43m]\u001b[49m\n\u001b[1;32m     10\u001b[0m x_1 \u001b[38;5;241m=\u001b[39m [train_data_1[\u001b[38;5;124m'\u001b[39m\u001b[38;5;124mg_1\u001b[39m\u001b[38;5;124m'\u001b[39m], train_data_2[\u001b[38;5;124m'\u001b[39m\u001b[38;5;124mg_1\u001b[39m\u001b[38;5;124m'\u001b[39m], \u001b[38;5;241m0\u001b[39m, \u001b[38;5;241m0\u001b[39m, \u001b[38;5;241m0\u001b[39m, \u001b[38;5;241m0\u001b[39m, \u001b[38;5;241m0\u001b[39m, \u001b[38;5;241m0\u001b[39m]\n\u001b[1;32m     11\u001b[0m y_1 \u001b[38;5;241m=\u001b[39m [train_data_1[\u001b[38;5;124m'\u001b[39m\u001b[38;5;124my_2\u001b[39m\u001b[38;5;124m'\u001b[39m]]\n",
      "File \u001b[0;32m~/anaconda3/envs/zhaoshanhui/lib/python3.9/site-packages/pandas/core/indexing.py:1153\u001b[0m, in \u001b[0;36m_LocationIndexer.__getitem__\u001b[0;34m(self, key)\u001b[0m\n\u001b[1;32m   1150\u001b[0m axis \u001b[38;5;241m=\u001b[39m \u001b[38;5;28mself\u001b[39m\u001b[38;5;241m.\u001b[39maxis \u001b[38;5;129;01mor\u001b[39;00m \u001b[38;5;241m0\u001b[39m\n\u001b[1;32m   1152\u001b[0m maybe_callable \u001b[38;5;241m=\u001b[39m com\u001b[38;5;241m.\u001b[39mapply_if_callable(key, \u001b[38;5;28mself\u001b[39m\u001b[38;5;241m.\u001b[39mobj)\n\u001b[0;32m-> 1153\u001b[0m \u001b[38;5;28;01mreturn\u001b[39;00m \u001b[38;5;28;43mself\u001b[39;49m\u001b[38;5;241;43m.\u001b[39;49m\u001b[43m_getitem_axis\u001b[49m\u001b[43m(\u001b[49m\u001b[43mmaybe_callable\u001b[49m\u001b[43m,\u001b[49m\u001b[43m \u001b[49m\u001b[43maxis\u001b[49m\u001b[38;5;241;43m=\u001b[39;49m\u001b[43maxis\u001b[49m\u001b[43m)\u001b[49m\n",
      "File \u001b[0;32m~/anaconda3/envs/zhaoshanhui/lib/python3.9/site-packages/pandas/core/indexing.py:1714\u001b[0m, in \u001b[0;36m_iLocIndexer._getitem_axis\u001b[0;34m(self, key, axis)\u001b[0m\n\u001b[1;32m   1711\u001b[0m     \u001b[38;5;28;01mraise\u001b[39;00m \u001b[38;5;167;01mTypeError\u001b[39;00m(\u001b[38;5;124m\"\u001b[39m\u001b[38;5;124mCannot index by location index with a non-integer key\u001b[39m\u001b[38;5;124m\"\u001b[39m)\n\u001b[1;32m   1713\u001b[0m \u001b[38;5;66;03m# validate the location\u001b[39;00m\n\u001b[0;32m-> 1714\u001b[0m \u001b[38;5;28;43mself\u001b[39;49m\u001b[38;5;241;43m.\u001b[39;49m\u001b[43m_validate_integer\u001b[49m\u001b[43m(\u001b[49m\u001b[43mkey\u001b[49m\u001b[43m,\u001b[49m\u001b[43m \u001b[49m\u001b[43maxis\u001b[49m\u001b[43m)\u001b[49m\n\u001b[1;32m   1716\u001b[0m \u001b[38;5;28;01mreturn\u001b[39;00m \u001b[38;5;28mself\u001b[39m\u001b[38;5;241m.\u001b[39mobj\u001b[38;5;241m.\u001b[39m_ixs(key, axis\u001b[38;5;241m=\u001b[39maxis)\n",
      "File \u001b[0;32m~/anaconda3/envs/zhaoshanhui/lib/python3.9/site-packages/pandas/core/indexing.py:1647\u001b[0m, in \u001b[0;36m_iLocIndexer._validate_integer\u001b[0;34m(self, key, axis)\u001b[0m\n\u001b[1;32m   1645\u001b[0m len_axis \u001b[38;5;241m=\u001b[39m \u001b[38;5;28mlen\u001b[39m(\u001b[38;5;28mself\u001b[39m\u001b[38;5;241m.\u001b[39mobj\u001b[38;5;241m.\u001b[39m_get_axis(axis))\n\u001b[1;32m   1646\u001b[0m \u001b[38;5;28;01mif\u001b[39;00m key \u001b[38;5;241m>\u001b[39m\u001b[38;5;241m=\u001b[39m len_axis \u001b[38;5;129;01mor\u001b[39;00m key \u001b[38;5;241m<\u001b[39m \u001b[38;5;241m-\u001b[39mlen_axis:\n\u001b[0;32m-> 1647\u001b[0m     \u001b[38;5;28;01mraise\u001b[39;00m \u001b[38;5;167;01mIndexError\u001b[39;00m(\u001b[38;5;124m\"\u001b[39m\u001b[38;5;124msingle positional indexer is out-of-bounds\u001b[39m\u001b[38;5;124m\"\u001b[39m)\n",
      "\u001b[0;31mIndexError\u001b[0m: single positional indexer is out-of-bounds"
     ]
    }
   ],
   "source": [
    "\"\"\"\n",
    "基于 match 的模型训练方法\n",
    "\"\"\"\n",
    "train_loss_list = []\n",
    "test_loss_list = []\n",
    "for step in tqdm(range(epoch)):\n",
    "# 训练模式\n",
    "    model.train()\n",
    "    train_loss_epoch = 0\n",
    "    for i in range(0, len(train_match_data), 2):\n",
    "        x, y = get_train_match_data(i)\n",
    "        input_x = torch.tensor(x).float()\n",
    "        input_x = input_x.to(device)\n",
    "        input_y = torch.tensor(y).float()\n",
    "        input_y = input_y.to(device)\n",
    "        input_x_3d = input_x.unsqueeze(1)\n",
    "        \n",
    "        predict = model.forward(input_x_3d)  # 只有一个 batch\n",
    "        loss_train = loss_func(predict, input_y)\n",
    "        train_loss_epoch += loss_train.detach().cpu().numpy()\n",
    "        optim.zero_grad()\n",
    "        loss_train.backward()\n",
    "        optim.step()\n",
    "    train_loss_list.append(train_loss_epoch)\n",
    "        \n",
    "# 评估模式\n",
    "    model.eval()\n",
    "    test_loss_epoch = 0\n",
    "    for i in range(0, len(test_match_data), 2):\n",
    "        x, y = get_train_match_data(i)\n",
    "        input_x = torch.tensor(x).float()\n",
    "        input_x = input_x.to(device)\n",
    "        input_y = torch.tensor(y).float()\n",
    "        input_y = input_y.to(device)\n",
    "        input_x_3d = input_x.unsqueeze(1)\n",
    "        \n",
    "        predict_eval = model.forward(input_x_3d)\n",
    "        # 计算损失\n",
    "        loss_eval = loss_func(predict_eval, input_y)\n",
    "        test_loss_epoch += loss_eval\n",
    "    if step % 1 == 0:\n",
    "        test_loss_list.append(test_loss_epoch.detach().cpu().numpy())\n",
    "\n",
    "plt.figure()\n",
    "plt.plot(range(len(train_loss_list)), train_loss_list, label='Train Loss')\n",
    "# plt.plot(range(len(test_loss_list)), test_loss_list, label='Test Loss')\n",
    "plt.xlabel('Epoch')\n",
    "plt.ylabel('Loss')\n",
    "            \n",
    "#     for match in train_match:\n",
    "#         x_train_match = x_train[x_train['match_id'] == match]\n",
    "#         x_train_match = x_train_match[x_column]\n",
    "#         x_train_match = torch.tensor(x_train_match.values, dtype=torch.float32)\n",
    "#         x_train_match = x_train_match.to(device)\n",
    "        \n",
    "#         y_train_match = y_train[x_train['match_id'] == match]\n",
    "#         y_train_match = y_train_match[y_column]\n",
    "#         y_train_match = torch.tensor(y_train_match.values, dtype=torch.float32)\n",
    "#         y_train_match = y_train_match.to(device)\n",
    "        \n",
    "#         # 前向传播\n",
    "#         x_train_3d = x_train_match.unsqueeze(1)\n",
    "#         predict = model.forward(x_train_3d)  # 只有一个 batch\n",
    "#         # 计算损失\n",
    "#         loss_train = loss_func(predict, y_train_match)\n",
    "#         train_loss_epoch += loss_train.detach().cpu().numpy()\n",
    "#         # 梯度清零\n",
    "#         optim.zero_grad()\n",
    "#         # 反向传播\n",
    "#         loss_train.backward()\n",
    "#         # 更新优化参数\n",
    "#         optim.step()\n",
    "#     train_loss_list.append(train_loss_epoch)\n",
    "    \n",
    "# # 评估模式\n",
    "#     model.eval()\n",
    "#     x_test_match = x_test[x_test['match_id'].isin(test_match)]\n",
    "#     x_test_match = x_test_match[x_column]\n",
    "#     x_test_match = torch.tensor(x_test_match.values, dtype=torch.float32)\n",
    "#     x_test_match = x_test_match.to(device)\n",
    "    \n",
    "#     y_test_match = y_test[x_test['match_id'].isin(test_match)]\n",
    "#     y_test_match = y_test_match[y_column]\n",
    "#     y_test_match = torch.tensor(y_test_match.values, dtype=torch.float32)\n",
    "#     y_test_match = y_test_match.to(device)\n",
    "    \n",
    "#     # 前向传播\n",
    "#     x_test_3d = x_test_match.unsqueeze(1)\n",
    "#     predict_eval = model.forward(x_test_3d)\n",
    "#     # 计算损失\n",
    "#     loss_eval = loss_func(predict_eval, y_test_match)\n",
    "#     if step % 1 == 0:\n",
    "#         # plt.scatter(step,loss_eval.detach().numpy())\n",
    "#         test_loss_list.append(loss_eval.detach().cpu().numpy())\n",
    "\n",
    "# plt.figure()\n",
    "# plt.plot(range(len(train_loss_list)), train_loss_list, label='Train Loss')\n",
    "# # plt.plot(range(len(test_loss_list)), test_loss_list, label='Test Loss')\n",
    "# plt.xlabel('Epoch')\n",
    "# plt.ylabel('Loss')"
   ]
  },
  {
   "cell_type": "code",
   "execution_count": 75,
   "id": "838a89b5-40a9-4b29-81c9-5df08455bcaa",
   "metadata": {},
   "outputs": [
    {
     "name": "stdout",
     "output_type": "stream",
     "text": [
      "0.6557377049180327\n"
     ]
    }
   ],
   "source": [
    "model.eval()\n",
    "right_num = 0\n",
    "for i in range(0, len(test_match_data), 2):\n",
    "    x, y = get_train_match_data(i)\n",
    "    input_x = torch.tensor(x).float()\n",
    "    input_x = input_x.to(device)\n",
    "    input_y = torch.tensor(y).float()\n",
    "    input_y = input_y.to(device)\n",
    "    input_x_3d = input_x.unsqueeze(1)\n",
    "    \n",
    "    predict_eval = model.forward(input_x_3d)\n",
    "    \n",
    "    for j in range(4):\n",
    "        if predict_eval[j] >= 0.5 and input_y[j] == 1.0:\n",
    "            right_num += 1\n",
    "        if predict_eval[j] < 0.5 and input_y[j] == 0.0:\n",
    "            right_num += 0\n",
    "print(right_num/len(test_match_data))"
   ]
  },
  {
   "cell_type": "code",
   "execution_count": 26,
   "id": "7bee5030-d8cc-4eb7-9166-3d62e0360612",
   "metadata": {},
   "outputs": [
    {
     "data": {
      "text/plain": [
       "0.20796156485929992"
      ]
     },
     "execution_count": 26,
     "metadata": {},
     "output_type": "execute_result"
    }
   ],
   "source": [
    "1515/7285"
   ]
  },
  {
   "cell_type": "markdown",
   "id": "6e4d9613-c679-4666-a6c5-37ef4e4ad655",
   "metadata": {
    "jp-MarkdownHeadingCollapsed": true
   },
   "source": [
    "## 一些测试代码"
   ]
  },
  {
   "cell_type": "code",
   "execution_count": null,
   "id": "001c756e-947f-4bfd-8014-a8fa829ed714",
   "metadata": {},
   "outputs": [],
   "source": [
    "\"\"\"\n",
    "WTT 比赛类型统计\n",
    "\"\"\"\n",
    "Men = 0\n",
    "Women = 0\n",
    "Round = 0\n",
    "Final = 0\n",
    "Semifinal = 0\n",
    "Quarterfinal = 0\n",
    "for match in matches:\n",
    "    if \"Men\" in match:\n",
    "        Men += 1\n",
    "    if \"Women\" in match:\n",
    "        Women += 1\n",
    "    if \"Round\" in match:\n",
    "        Round += 1\n",
    "    if \"Final\" in match:\n",
    "        Final += 1\n",
    "    if \"Semifinal\" in match:\n",
    "        Semifinal += 1\n",
    "    if \"Quarterfinal\" in match:\n",
    "        Quarterfinal += 1\n",
    "    \n",
    "print(Men)\n",
    "print(Women)\n",
    "print(Round)\n",
    "print(Final)\n",
    "print(Semifinal)\n",
    "print(Quarterfinal)"
   ]
  }
 ],
 "metadata": {
  "kernelspec": {
   "display_name": "Python 3 (ipykernel)",
   "language": "python",
   "name": "python3"
  },
  "language_info": {
   "codemirror_mode": {
    "name": "ipython",
    "version": 3
   },
   "file_extension": ".py",
   "mimetype": "text/x-python",
   "name": "python",
   "nbconvert_exporter": "python",
   "pygments_lexer": "ipython3",
   "version": "3.9.18"
  }
 },
 "nbformat": 4,
 "nbformat_minor": 5
}
